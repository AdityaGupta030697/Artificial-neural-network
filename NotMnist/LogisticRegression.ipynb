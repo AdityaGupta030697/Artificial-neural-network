{
  "nbformat": 4,
  "nbformat_minor": 0,
  "metadata": {
    "colab": {
      "name": "LogisticRegression.ipynb",
      "version": "0.3.2",
      "provenance": []
    },
    "kernelspec": {
      "name": "python3",
      "display_name": "Python 3"
    }
  },
  "cells": [
    {
      "metadata": {
        "id": "_UzRupDic1QJ",
        "colab_type": "code",
        "colab": {}
      },
      "cell_type": "code",
      "source": [
        "# Import data from google drive\n",
        "!pip install -U -q PyDrive\n",
        " \n",
        "from pydrive.auth import GoogleAuth\n",
        "from pydrive.drive import GoogleDrive\n",
        "from google.colab import auth\n",
        "from oauth2client.client import GoogleCredentials\n",
        " \n",
        "# 1. Authenticate and create the PyDrive client.\n",
        "auth.authenticate_user()\n",
        "gauth = GoogleAuth()\n",
        "gauth.credentials = GoogleCredentials.get_application_default()\n",
        "drive = GoogleDrive(gauth)"
      ],
      "execution_count": 0,
      "outputs": []
    },
    {
      "metadata": {
        "id": "Dc25nAALc2dQ",
        "colab_type": "code",
        "colab": {
          "base_uri": "https://localhost:8080/",
          "height": 34
        },
        "outputId": "f13f8a11-44bd-47aa-f9aa-938e82f0b147"
      },
      "cell_type": "code",
      "source": [
        "file_list = drive.ListFile({'q': \"'1RxNKaI-lPF6L0jIx4hDimtsh1jNN3a3u' in parents and trashed=false\"}).GetList()\n",
        "for file1 in file_list:\n",
        "  print('title: %s, id: %s' % (file1['title'], file1['id']))"
      ],
      "execution_count": 2,
      "outputs": [
        {
          "output_type": "stream",
          "text": [
            "title: notMNIST.pickle, id: 1rymPKySp1y2D8QS-7-8WqG57k98wk0_Q\n"
          ],
          "name": "stdout"
        }
      ]
    },
    {
      "metadata": {
        "id": "JdEO0tFDdEEv",
        "colab_type": "code",
        "colab": {}
      },
      "cell_type": "code",
      "source": [
        "# Download req. pickle file\n",
        "downloaded = drive.CreateFile({'id': '1rymPKySp1y2D8QS-7-8WqG57k98wk0_Q'})\n",
        "downloaded.GetContentFile('notMNIST.pickle')"
      ],
      "execution_count": 0,
      "outputs": []
    },
    {
      "metadata": {
        "id": "ZSGo4qAOdt9W",
        "colab_type": "code",
        "colab": {}
      },
      "cell_type": "code",
      "source": [
        "import pickle"
      ],
      "execution_count": 0,
      "outputs": []
    },
    {
      "metadata": {
        "id": "sCWdFfMqdLpQ",
        "colab_type": "code",
        "colab": {}
      },
      "cell_type": "code",
      "source": [
        "objects = []\n",
        "with (open(\"notMNIST.pickle\", \"rb\")) as openfile:\n",
        "    while True:\n",
        "        try:\n",
        "            objects.append(pickle.load(openfile))\n",
        "        except EOFError:\n",
        "            break"
      ],
      "execution_count": 0,
      "outputs": []
    },
    {
      "metadata": {
        "id": "XzmjTMhvdxEy",
        "colab_type": "code",
        "colab": {}
      },
      "cell_type": "code",
      "source": [
        "# Assign values\n",
        "test_dataset = objects[0]['test_dataset']\n",
        "test_labels = objects[0]['test_labels']\n",
        "train_dataset = objects[0]['train_dataset']\n",
        "train_labels = objects[0]['train_labels']"
      ],
      "execution_count": 0,
      "outputs": []
    },
    {
      "metadata": {
        "id": "RnDk9sahhyWJ",
        "colab_type": "code",
        "colab": {
          "base_uri": "https://localhost:8080/",
          "height": 34
        },
        "outputId": "cdffdfea-df75-4de0-a29e-3f07f253e9d0"
      },
      "cell_type": "code",
      "source": [
        "test_dataset.shape"
      ],
      "execution_count": 12,
      "outputs": [
        {
          "output_type": "execute_result",
          "data": {
            "text/plain": [
              "(10000, 28, 28)"
            ]
          },
          "metadata": {
            "tags": []
          },
          "execution_count": 12
        }
      ]
    },
    {
      "metadata": {
        "id": "HFyUPlquhymX",
        "colab_type": "code",
        "colab": {
          "base_uri": "https://localhost:8080/",
          "height": 286
        },
        "outputId": "63c23d30-d703-45d6-c3de-76bd1119ca99"
      },
      "cell_type": "code",
      "source": [
        "from sklearn import metrics\n",
        "from sklearn.linear_model import LogisticRegression\n",
        "\n",
        "# Reshaping images\n",
        "train_dataset2d = train_dataset.reshape(train_dataset.shape[0],train_dataset.shape[1]*train_dataset.shape[2])\n",
        "test_dataset2d = test_dataset.reshape(test_dataset.shape[0],test_dataset.shape[1]*test_dataset.shape[2])\n",
        "\n",
        "# Log Reg with 500 training examples\n",
        "log_reg = LogisticRegression()\n",
        "log_reg.fit(train_dataset2d[:500,:],train_labels[:500])\n",
        "\n",
        "\n",
        "predicted = log_reg.predict(test_dataset2d)\n",
        "print(metrics.classification_report(test_labels, predicted))\n",
        "print('accuracy ', 100 * log_reg.score(test_dataset2d, test_labels))"
      ],
      "execution_count": 17,
      "outputs": [
        {
          "output_type": "stream",
          "text": [
            "             precision    recall  f1-score   support\n",
            "\n",
            "          0       0.92      0.77      0.84      1000\n",
            "          1       0.83      0.79      0.81      1000\n",
            "          2       0.78      0.88      0.83      1000\n",
            "          3       0.85      0.88      0.86      1000\n",
            "          4       0.82      0.77      0.79      1000\n",
            "          5       0.78      0.89      0.83      1000\n",
            "          6       0.89      0.79      0.84      1000\n",
            "          7       0.86      0.82      0.84      1000\n",
            "          8       0.81      0.85      0.83      1000\n",
            "          9       0.80      0.87      0.84      1000\n",
            "\n",
            "avg / total       0.83      0.83      0.83     10000\n",
            "\n",
            "accuracy  83.12\n"
          ],
          "name": "stdout"
        }
      ]
    }
  ]
}