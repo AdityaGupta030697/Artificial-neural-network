{
  "nbformat": 4,
  "nbformat_minor": 0,
  "metadata": {
    "colab": {
      "name": "MLP_1HL.ipynb",
      "version": "0.3.2",
      "views": {},
      "default_view": {},
      "provenance": []
    },
    "kernelspec": {
      "name": "python3",
      "display_name": "Python 3"
    },
    "accelerator": "GPU"
  },
  "cells": [
    {
      "metadata": {
        "id": "iIm_q3Suwksf",
        "colab_type": "code",
        "colab": {
          "autoexec": {
            "startup": false,
            "wait_interval": 0
          },
          "base_uri": "https://localhost:8080/",
          "height": 34
        },
        "outputId": "d0f80569-f5d5-4621-cb88-69b504364861",
        "executionInfo": {
          "status": "ok",
          "timestamp": 1531162951097,
          "user_tz": -330,
          "elapsed": 9524,
          "user": {
            "displayName": "aditya gupta",
            "photoUrl": "https://lh3.googleusercontent.com/a/default-user=s128",
            "userId": "113433956313086425402"
          }
        }
      },
      "cell_type": "code",
      "source": [
        "import tensorflow as tf\n",
        "device_name = tf.test.gpu_device_name()\n",
        "if device_name != '/device:GPU:0':\n",
        "  raise SystemError('GPU device not found')\n",
        "print('Found GPU at: {}'.format(device_name))"
      ],
      "execution_count": 2,
      "outputs": [
        {
          "output_type": "stream",
          "text": [
            "Found GPU at: /device:GPU:0\n"
          ],
          "name": "stdout"
        }
      ]
    },
    {
      "metadata": {
        "id": "uIGWp8KXwzr9",
        "colab_type": "code",
        "colab": {
          "autoexec": {
            "startup": false,
            "wait_interval": 0
          }
        }
      },
      "cell_type": "code",
      "source": [
        "# Import data from google drive\n",
        "!pip install -U -q PyDrive\n",
        " \n",
        "from pydrive.auth import GoogleAuth\n",
        "from pydrive.drive import GoogleDrive\n",
        "from google.colab import auth\n",
        "from oauth2client.client import GoogleCredentials\n",
        " \n",
        "# 1. Authenticate and create the PyDrive client.\n",
        "auth.authenticate_user()\n",
        "gauth = GoogleAuth()\n",
        "gauth.credentials = GoogleCredentials.get_application_default()\n",
        "drive = GoogleDrive(gauth)"
      ],
      "execution_count": 0,
      "outputs": []
    },
    {
      "metadata": {
        "id": "wdp3nrzExOX9",
        "colab_type": "code",
        "colab": {
          "autoexec": {
            "startup": false,
            "wait_interval": 0
          },
          "base_uri": "https://localhost:8080/",
          "height": 34
        },
        "outputId": "56bcb7c2-670b-4cb4-9e0e-00b442315537",
        "executionInfo": {
          "status": "ok",
          "timestamp": 1531163013902,
          "user_tz": -330,
          "elapsed": 1242,
          "user": {
            "displayName": "aditya gupta",
            "photoUrl": "https://lh3.googleusercontent.com/a/default-user=s128",
            "userId": "113433956313086425402"
          }
        }
      },
      "cell_type": "code",
      "source": [
        "file_list = drive.ListFile({'q': \"'1RxNKaI-lPF6L0jIx4hDimtsh1jNN3a3u' in parents and trashed=false\"}).GetList()\n",
        "for file1 in file_list:\n",
        "  print('title: %s, id: %s' % (file1['title'], file1['id']))"
      ],
      "execution_count": 4,
      "outputs": [
        {
          "output_type": "stream",
          "text": [
            "title: notMNIST.pickle, id: 1rymPKySp1y2D8QS-7-8WqG57k98wk0_Q\n"
          ],
          "name": "stdout"
        }
      ]
    },
    {
      "metadata": {
        "id": "JeOi8dd2xUWl",
        "colab_type": "code",
        "colab": {
          "autoexec": {
            "startup": false,
            "wait_interval": 0
          }
        }
      },
      "cell_type": "code",
      "source": [
        "# Download req. pickle file\n",
        "downloaded = drive.CreateFile({'id': '1rymPKySp1y2D8QS-7-8WqG57k98wk0_Q'})\n",
        "downloaded.GetContentFile('notMNIST.pickle')"
      ],
      "execution_count": 0,
      "outputs": []
    },
    {
      "metadata": {
        "id": "6Cvqm_7DxgH-",
        "colab_type": "code",
        "colab": {
          "autoexec": {
            "startup": false,
            "wait_interval": 0
          }
        }
      },
      "cell_type": "code",
      "source": [
        "import pickle\n",
        "import numpy as np"
      ],
      "execution_count": 0,
      "outputs": []
    },
    {
      "metadata": {
        "id": "fZFYhe1_xXQE",
        "colab_type": "code",
        "colab": {
          "autoexec": {
            "startup": false,
            "wait_interval": 0
          },
          "base_uri": "https://localhost:8080/",
          "height": 67
        },
        "outputId": "fb5508c6-d808-4c56-ff3e-e883bb7122ac",
        "executionInfo": {
          "status": "ok",
          "timestamp": 1531163026652,
          "user_tz": -330,
          "elapsed": 1464,
          "user": {
            "displayName": "aditya gupta",
            "photoUrl": "https://lh3.googleusercontent.com/a/default-user=s128",
            "userId": "113433956313086425402"
          }
        }
      },
      "cell_type": "code",
      "source": [
        "with open('notMNIST.pickle', 'rb') as f:\n",
        "  save = pickle.load(f)\n",
        "  train_dataset = save['train_dataset']\n",
        "  train_labels = save['train_labels']\n",
        "  valid_dataset = save['valid_dataset']\n",
        "  valid_labels = save['valid_labels']\n",
        "  test_dataset = save['test_dataset']\n",
        "  test_labels = save['test_labels']\n",
        "  del save  # hint to help gc free up memory\n",
        "  print('Training set', train_dataset.shape, train_labels.shape)\n",
        "  print('Validation set', valid_dataset.shape, valid_labels.shape)\n",
        "  print('Test set', test_dataset.shape, test_labels.shape)"
      ],
      "execution_count": 7,
      "outputs": [
        {
          "output_type": "stream",
          "text": [
            "Training set (200000, 28, 28) (200000,)\n",
            "Validation set (10000, 28, 28) (10000,)\n",
            "Test set (10000, 28, 28) (10000,)\n"
          ],
          "name": "stdout"
        }
      ]
    },
    {
      "metadata": {
        "id": "LsUhQ4fByAPU",
        "colab_type": "code",
        "colab": {
          "autoexec": {
            "startup": false,
            "wait_interval": 0
          },
          "base_uri": "https://localhost:8080/",
          "height": 67
        },
        "outputId": "0e5276bb-c131-480d-e65f-873c80a76020",
        "executionInfo": {
          "status": "ok",
          "timestamp": 1531163027726,
          "user_tz": -330,
          "elapsed": 1009,
          "user": {
            "displayName": "aditya gupta",
            "photoUrl": "https://lh3.googleusercontent.com/a/default-user=s128",
            "userId": "113433956313086425402"
          }
        }
      },
      "cell_type": "code",
      "source": [
        "image_size = 28\n",
        "num_labels = 10\n",
        "\n",
        "def reformat(dataset, labels):\n",
        "  dataset = dataset.reshape((-1, image_size * image_size)).astype(np.float32)\n",
        "  # Map 0 to [1.0, 0.0, 0.0 ...], 1 to [0.0, 1.0, 0.0 ...]\n",
        "  labels = (np.arange(num_labels) == labels[:,None]).astype(np.float32)\n",
        "  return dataset, labels\n",
        "train_dataset, train_labels = reformat(train_dataset, train_labels)\n",
        "valid_dataset, valid_labels = reformat(valid_dataset, valid_labels)\n",
        "test_dataset, test_labels = reformat(test_dataset, test_labels)\n",
        "print('Training set', train_dataset.shape, train_labels.shape)\n",
        "print('Validation set', valid_dataset.shape, valid_labels.shape)\n",
        "print('Test set', test_dataset.shape, test_labels.shape)"
      ],
      "execution_count": 8,
      "outputs": [
        {
          "output_type": "stream",
          "text": [
            "Training set (200000, 784) (200000, 10)\n",
            "Validation set (10000, 784) (10000, 10)\n",
            "Test set (10000, 784) (10000, 10)\n"
          ],
          "name": "stdout"
        }
      ]
    },
    {
      "metadata": {
        "id": "hgCxsa8vxjE-",
        "colab_type": "code",
        "colab": {
          "autoexec": {
            "startup": false,
            "wait_interval": 0
          }
        }
      },
      "cell_type": "code",
      "source": [
        "import keras\n",
        "from keras.layers import Dense, Dropout\n",
        "from keras.models import Sequential\n",
        "from keras.utils import to_categorical\n",
        "from keras.optimizers import SGD"
      ],
      "execution_count": 0,
      "outputs": []
    },
    {
      "metadata": {
        "id": "-iWdi63QbHnx",
        "colab_type": "text"
      },
      "cell_type": "markdown",
      "source": [
        "## Baseline Model\n"
      ]
    },
    {
      "metadata": {
        "id": "keEX9kJayWps",
        "colab_type": "code",
        "colab": {
          "autoexec": {
            "startup": false,
            "wait_interval": 0
          },
          "base_uri": "https://localhost:8080/",
          "height": 390
        },
        "outputId": "d5913eff-afb1-438b-f961-2e7e4a7a1aaa",
        "executionInfo": {
          "status": "ok",
          "timestamp": 1531163196126,
          "user_tz": -330,
          "elapsed": 167221,
          "user": {
            "displayName": "aditya gupta",
            "photoUrl": "https://lh3.googleusercontent.com/a/default-user=s128",
            "userId": "113433956313086425402"
          }
        }
      },
      "cell_type": "code",
      "source": [
        "# Set up the model\n",
        "model = Sequential()\n",
        "\n",
        "# Add the first layer\n",
        "model.add(Dense(1024, activation = 'relu', input_shape = (784, )))\n",
        "\n",
        "# Add the output layer\n",
        "model.add(Dense(10, activation='softmax'))\n",
        "\n",
        "# Create SGD optimizer with specified learning rate: my_optimizer\n",
        "my_optimizer = SGD()\n",
        "  \n",
        "\n",
        "# Compile the model\n",
        "model.compile(optimizer = my_optimizer, metrics = ['accuracy'], loss='categorical_crossentropy')\n",
        "\n",
        "# Fit the model\n",
        "with tf.device('/gpu:0'):\n",
        "  model.fit(train_dataset, train_labels, epochs=10, batch_size=64, validation_data=(valid_dataset, valid_labels))"
      ],
      "execution_count": 10,
      "outputs": [
        {
          "output_type": "stream",
          "text": [
            "Train on 200000 samples, validate on 10000 samples\n",
            "Epoch 1/10\n",
            "200000/200000 [==============================] - 17s 83us/step - loss: 0.6667 - acc: 0.8177 - val_loss: 0.5408 - val_acc: 0.8450\n",
            "Epoch 2/10\n",
            "119680/200000 [================>.............] - ETA: 6s - loss: 0.5416 - acc: 0.8458"
          ],
          "name": "stdout"
        },
        {
          "output_type": "stream",
          "text": [
            "200000/200000 [==============================] - 17s 83us/step - loss: 0.5324 - acc: 0.8487 - val_loss: 0.4992 - val_acc: 0.8558\n",
            "Epoch 3/10\n",
            "200000/200000 [==============================] - 17s 83us/step - loss: 0.4957 - acc: 0.8581 - val_loss: 0.4725 - val_acc: 0.8651\n",
            "Epoch 4/10\n",
            " 31552/200000 [===>..........................] - ETA: 13s - loss: 0.4773 - acc: 0.8644"
          ],
          "name": "stdout"
        },
        {
          "output_type": "stream",
          "text": [
            "200000/200000 [==============================] - 17s 83us/step - loss: 0.4692 - acc: 0.8657 - val_loss: 0.4535 - val_acc: 0.8677\n",
            "Epoch 5/10\n",
            "200000/200000 [==============================] - 17s 83us/step - loss: 0.4475 - acc: 0.8716 - val_loss: 0.4367 - val_acc: 0.8723\n",
            "Epoch 6/10\n",
            " 11328/200000 [>.............................] - ETA: 15s - loss: 0.4358 - acc: 0.8754"
          ],
          "name": "stdout"
        },
        {
          "output_type": "stream",
          "text": [
            "200000/200000 [==============================] - 17s 83us/step - loss: 0.4291 - acc: 0.8770 - val_loss: 0.4235 - val_acc: 0.8767\n",
            "Epoch 7/10\n",
            "200000/200000 [==============================] - 17s 83us/step - loss: 0.4131 - acc: 0.8818 - val_loss: 0.4115 - val_acc: 0.8801\n",
            "Epoch 8/10\n",
            "  5888/200000 [..............................] - ETA: 15s - loss: 0.4067 - acc: 0.8838"
          ],
          "name": "stdout"
        },
        {
          "output_type": "stream",
          "text": [
            "200000/200000 [==============================] - 17s 83us/step - loss: 0.3992 - acc: 0.8854 - val_loss: 0.4028 - val_acc: 0.8841\n",
            "Epoch 9/10\n",
            "200000/200000 [==============================] - 17s 83us/step - loss: 0.3867 - acc: 0.8890 - val_loss: 0.3941 - val_acc: 0.8855\n",
            "Epoch 10/10\n",
            "  4672/200000 [..............................] - ETA: 16s - loss: 0.3939 - acc: 0.8851"
          ],
          "name": "stdout"
        },
        {
          "output_type": "stream",
          "text": [
            "200000/200000 [==============================] - 17s 83us/step - loss: 0.3753 - acc: 0.8920 - val_loss: 0.3883 - val_acc: 0.8887\n"
          ],
          "name": "stdout"
        }
      ]
    },
    {
      "metadata": {
        "id": "XOMX5Tkr1e9Z",
        "colab_type": "code",
        "colab": {
          "autoexec": {
            "startup": false,
            "wait_interval": 0
          },
          "base_uri": "https://localhost:8080/",
          "height": 67
        },
        "outputId": "4bb3dbf8-fe14-477e-ed5c-5cf7d128f4d6",
        "executionInfo": {
          "status": "ok",
          "timestamp": 1531163218429,
          "user_tz": -330,
          "elapsed": 1456,
          "user": {
            "displayName": "aditya gupta",
            "photoUrl": "https://lh3.googleusercontent.com/a/default-user=s128",
            "userId": "113433956313086425402"
          }
        }
      },
      "cell_type": "code",
      "source": [
        "# Score trained model.\n",
        "scores = model.evaluate(test_dataset, test_labels, verbose=1)\n",
        "print('Test loss:', scores[0])\n",
        "print('Test accuracy:', scores[1])"
      ],
      "execution_count": 13,
      "outputs": [
        {
          "output_type": "stream",
          "text": [
            "10000/10000 [==============================] - 1s 58us/step\n",
            "Test loss: 0.21211404593586922\n",
            "Test accuracy: 0.9418\n"
          ],
          "name": "stdout"
        }
      ]
    },
    {
      "metadata": {
        "id": "k5skzvUIbMXr",
        "colab_type": "text"
      },
      "cell_type": "markdown",
      "source": [
        "## L2 REGULARIZATION"
      ]
    },
    {
      "metadata": {
        "id": "-pLmt2yocL9a",
        "colab_type": "code",
        "colab": {
          "autoexec": {
            "startup": false,
            "wait_interval": 0
          }
        }
      },
      "cell_type": "code",
      "source": [
        "from keras import regularizers"
      ],
      "execution_count": 0,
      "outputs": []
    },
    {
      "metadata": {
        "id": "guuAAzURbQxj",
        "colab_type": "code",
        "colab": {
          "autoexec": {
            "startup": false,
            "wait_interval": 0
          },
          "base_uri": "https://localhost:8080/",
          "height": 1734
        },
        "outputId": "e4f376ab-1533-4eff-88d5-5d5d44dd0f5e",
        "executionInfo": {
          "status": "ok",
          "timestamp": 1531170310508,
          "user_tz": -330,
          "elapsed": 944882,
          "user": {
            "displayName": "aditya gupta",
            "photoUrl": "https://lh3.googleusercontent.com/a/default-user=s128",
            "userId": "113433956313086425402"
          }
        }
      },
      "cell_type": "code",
      "source": [
        "# Set up the model\n",
        "model = Sequential()\n",
        "\n",
        "# Add the first layer\n",
        "model.add(Dense(1024, activation = 'relu', input_shape = (784, ),kernel_regularizer=regularizers.l2(.00005),activity_regularizer=regularizers.l2(.00005), bias_regularizer = regularizers.l2(.00005)))\n",
        "\n",
        "# Add the output layer\n",
        "model.add(Dense(10, activation='softmax'))\n",
        "\n",
        "# Create SGD optimizer with specified learning rate: my_optimizer\n",
        "my_optimizer = SGD()\n",
        "  \n",
        "\n",
        "# Compile the model\n",
        "model.compile(optimizer = my_optimizer, metrics = ['accuracy'], loss='categorical_crossentropy')\n",
        "\n",
        "# Fit the model\n",
        "with tf.device('/gpu:0'):\n",
        "  model.fit(train_dataset, train_labels, epochs=50, batch_size=64, validation_data=(valid_dataset, valid_labels))"
      ],
      "execution_count": 41,
      "outputs": [
        {
          "output_type": "stream",
          "text": [
            "Train on 200000 samples, validate on 10000 samples\n",
            "Epoch 1/50\n",
            "200000/200000 [==============================] - 19s 97us/step - loss: 0.9346 - acc: 0.8165 - val_loss: 0.7601 - val_acc: 0.8428\n",
            "Epoch 2/50\n",
            " 92736/200000 [============>.................] - ETA: 10s - loss: 0.7531 - acc: 0.8429"
          ],
          "name": "stdout"
        },
        {
          "output_type": "stream",
          "text": [
            "200000/200000 [==============================] - 19s 94us/step - loss: 0.7332 - acc: 0.8458 - val_loss: 0.6846 - val_acc: 0.8534\n",
            "Epoch 3/50\n",
            "200000/200000 [==============================] - 19s 95us/step - loss: 0.6725 - acc: 0.8554 - val_loss: 0.6420 - val_acc: 0.8605\n",
            "Epoch 4/50\n",
            "  5184/200000 [..............................] - ETA: 18s - loss: 0.6328 - acc: 0.8605"
          ],
          "name": "stdout"
        },
        {
          "output_type": "stream",
          "text": [
            "200000/200000 [==============================] - 19s 95us/step - loss: 0.6315 - acc: 0.8629 - val_loss: 0.6102 - val_acc: 0.8669\n",
            "Epoch 5/50\n",
            "179328/200000 [=========================>....] - ETA: 1s - loss: 0.6018 - acc: 0.8690"
          ],
          "name": "stdout"
        },
        {
          "output_type": "stream",
          "text": [
            "200000/200000 [==============================] - 19s 93us/step - loss: 0.5997 - acc: 0.8693 - val_loss: 0.5856 - val_acc: 0.8708\n",
            "Epoch 6/50\n",
            "200000/200000 [==============================] - 19s 94us/step - loss: 0.5734 - acc: 0.8746 - val_loss: 0.5660 - val_acc: 0.8754\n",
            "Epoch 7/50\n",
            " 26816/200000 [===>..........................] - ETA: 15s - loss: 0.5535 - acc: 0.8789"
          ],
          "name": "stdout"
        },
        {
          "output_type": "stream",
          "text": [
            "200000/200000 [==============================] - 19s 94us/step - loss: 0.5515 - acc: 0.8794 - val_loss: 0.5491 - val_acc: 0.8786\n",
            "Epoch 8/50\n",
            "187072/200000 [===========================>..] - ETA: 1s - loss: 0.5325 - acc: 0.8838"
          ],
          "name": "stdout"
        },
        {
          "output_type": "stream",
          "text": [
            "200000/200000 [==============================] - 19s 93us/step - loss: 0.5323 - acc: 0.8837 - val_loss: 0.5341 - val_acc: 0.8810\n",
            "Epoch 9/50\n",
            "200000/200000 [==============================] - 19s 94us/step - loss: 0.5155 - acc: 0.8875 - val_loss: 0.5221 - val_acc: 0.8847\n",
            "Epoch 10/50\n",
            " 27968/200000 [===>..........................] - ETA: 15s - loss: 0.5072 - acc: 0.8891"
          ],
          "name": "stdout"
        },
        {
          "output_type": "stream",
          "text": [
            "200000/200000 [==============================] - 19s 94us/step - loss: 0.5007 - acc: 0.8911 - val_loss: 0.5131 - val_acc: 0.8847\n",
            "Epoch 11/50\n",
            "187776/200000 [===========================>..] - ETA: 1s - loss: 0.4877 - acc: 0.8942"
          ],
          "name": "stdout"
        },
        {
          "output_type": "stream",
          "text": [
            "200000/200000 [==============================] - 18s 92us/step - loss: 0.4874 - acc: 0.8943 - val_loss: 0.5029 - val_acc: 0.8878\n",
            "Epoch 12/50\n",
            "200000/200000 [==============================] - 19s 95us/step - loss: 0.4750 - acc: 0.8972 - val_loss: 0.4952 - val_acc: 0.8894\n",
            "Epoch 13/50\n",
            " 26368/200000 [==>...........................] - ETA: 16s - loss: 0.4648 - acc: 0.8988"
          ],
          "name": "stdout"
        },
        {
          "output_type": "stream",
          "text": [
            "200000/200000 [==============================] - 19s 94us/step - loss: 0.4640 - acc: 0.9000 - val_loss: 0.4877 - val_acc: 0.8915\n",
            "Epoch 14/50\n",
            "183872/200000 [==========================>...] - ETA: 1s - loss: 0.4540 - acc: 0.9026"
          ],
          "name": "stdout"
        },
        {
          "output_type": "stream",
          "text": [
            "200000/200000 [==============================] - 19s 95us/step - loss: 0.4537 - acc: 0.9029 - val_loss: 0.4806 - val_acc: 0.8940\n",
            "Epoch 15/50\n",
            "200000/200000 [==============================] - 19s 94us/step - loss: 0.4442 - acc: 0.9050 - val_loss: 0.4753 - val_acc: 0.8942\n",
            "Epoch 16/50\n",
            " 26368/200000 [==>...........................] - ETA: 15s - loss: 0.4406 - acc: 0.9068"
          ],
          "name": "stdout"
        },
        {
          "output_type": "stream",
          "text": [
            "200000/200000 [==============================] - 19s 93us/step - loss: 0.4353 - acc: 0.9073 - val_loss: 0.4711 - val_acc: 0.8955\n",
            "Epoch 17/50\n",
            "184768/200000 [==========================>...] - ETA: 1s - loss: 0.4273 - acc: 0.9094"
          ],
          "name": "stdout"
        },
        {
          "output_type": "stream",
          "text": [
            "200000/200000 [==============================] - 19s 94us/step - loss: 0.4269 - acc: 0.9094 - val_loss: 0.4646 - val_acc: 0.8979\n",
            "Epoch 18/50\n",
            "200000/200000 [==============================] - 19s 95us/step - loss: 0.4190 - acc: 0.9113 - val_loss: 0.4607 - val_acc: 0.8970\n",
            "Epoch 19/50\n",
            " 25664/200000 [==>...........................] - ETA: 16s - loss: 0.4122 - acc: 0.9136"
          ],
          "name": "stdout"
        },
        {
          "output_type": "stream",
          "text": [
            "200000/200000 [==============================] - 19s 94us/step - loss: 0.4115 - acc: 0.9132 - val_loss: 0.4571 - val_acc: 0.8984\n",
            "Epoch 20/50\n",
            "183872/200000 [==========================>...] - ETA: 1s - loss: 0.4032 - acc: 0.9152"
          ],
          "name": "stdout"
        },
        {
          "output_type": "stream",
          "text": [
            "200000/200000 [==============================] - 19s 94us/step - loss: 0.4044 - acc: 0.9149 - val_loss: 0.4543 - val_acc: 0.8992\n",
            "Epoch 21/50\n",
            "200000/200000 [==============================] - 19s 94us/step - loss: 0.3975 - acc: 0.9171 - val_loss: 0.4519 - val_acc: 0.8980\n",
            "Epoch 22/50\n",
            " 25984/200000 [==>...........................] - ETA: 16s - loss: 0.3881 - acc: 0.9188"
          ],
          "name": "stdout"
        },
        {
          "output_type": "stream",
          "text": [
            "200000/200000 [==============================] - 19s 94us/step - loss: 0.3910 - acc: 0.9187 - val_loss: 0.4452 - val_acc: 0.9009\n",
            "Epoch 23/50\n",
            "183424/200000 [==========================>...] - ETA: 1s - loss: 0.3845 - acc: 0.9202"
          ],
          "name": "stdout"
        },
        {
          "output_type": "stream",
          "text": [
            "200000/200000 [==============================] - 19s 95us/step - loss: 0.3847 - acc: 0.9201 - val_loss: 0.4436 - val_acc: 0.9017\n",
            "Epoch 24/50\n",
            "200000/200000 [==============================] - 19s 95us/step - loss: 0.3787 - acc: 0.9220 - val_loss: 0.4394 - val_acc: 0.9025\n",
            "Epoch 25/50\n",
            " 26624/200000 [==>...........................] - ETA: 15s - loss: 0.3722 - acc: 0.9245"
          ],
          "name": "stdout"
        },
        {
          "output_type": "stream",
          "text": [
            "200000/200000 [==============================] - 19s 95us/step - loss: 0.3731 - acc: 0.9233 - val_loss: 0.4383 - val_acc: 0.9033\n",
            "Epoch 26/50\n",
            "182592/200000 [==========================>...] - ETA: 1s - loss: 0.3664 - acc: 0.9252"
          ],
          "name": "stdout"
        },
        {
          "output_type": "stream",
          "text": [
            "200000/200000 [==============================] - 19s 96us/step - loss: 0.3674 - acc: 0.9250 - val_loss: 0.4356 - val_acc: 0.9036\n",
            "Epoch 27/50\n",
            "200000/200000 [==============================] - 19s 95us/step - loss: 0.3621 - acc: 0.9264 - val_loss: 0.4339 - val_acc: 0.9029\n",
            "Epoch 28/50\n",
            " 25088/200000 [==>...........................] - ETA: 16s - loss: 0.3581 - acc: 0.9292"
          ],
          "name": "stdout"
        },
        {
          "output_type": "stream",
          "text": [
            "200000/200000 [==============================] - 19s 96us/step - loss: 0.3568 - acc: 0.9276 - val_loss: 0.4315 - val_acc: 0.9036\n",
            "Epoch 29/50\n",
            "181760/200000 [==========================>...] - ETA: 1s - loss: 0.3516 - acc: 0.9293"
          ],
          "name": "stdout"
        },
        {
          "output_type": "stream",
          "text": [
            "200000/200000 [==============================] - 19s 95us/step - loss: 0.3518 - acc: 0.9293 - val_loss: 0.4311 - val_acc: 0.9037\n",
            "Epoch 30/50\n",
            "200000/200000 [==============================] - 19s 94us/step - loss: 0.3469 - acc: 0.9307 - val_loss: 0.4269 - val_acc: 0.9047\n",
            "Epoch 31/50\n",
            " 25664/200000 [==>...........................] - ETA: 16s - loss: 0.3319 - acc: 0.9357"
          ],
          "name": "stdout"
        },
        {
          "output_type": "stream",
          "text": [
            "200000/200000 [==============================] - 19s 95us/step - loss: 0.3422 - acc: 0.9319 - val_loss: 0.4271 - val_acc: 0.9038\n",
            "Epoch 32/50\n",
            "184384/200000 [==========================>...] - ETA: 1s - loss: 0.3369 - acc: 0.9334"
          ],
          "name": "stdout"
        },
        {
          "output_type": "stream",
          "text": [
            "200000/200000 [==============================] - 19s 94us/step - loss: 0.3376 - acc: 0.9332 - val_loss: 0.4241 - val_acc: 0.9052\n",
            "Epoch 33/50\n",
            "200000/200000 [==============================] - 19s 94us/step - loss: 0.3331 - acc: 0.9348 - val_loss: 0.4224 - val_acc: 0.9061\n",
            "Epoch 34/50\n",
            " 26688/200000 [===>..........................] - ETA: 16s - loss: 0.3258 - acc: 0.9374"
          ],
          "name": "stdout"
        },
        {
          "output_type": "stream",
          "text": [
            "200000/200000 [==============================] - 19s 93us/step - loss: 0.3288 - acc: 0.9355 - val_loss: 0.4221 - val_acc: 0.9050\n",
            "Epoch 35/50\n",
            "186304/200000 [==========================>...] - ETA: 1s - loss: 0.3246 - acc: 0.9370"
          ],
          "name": "stdout"
        },
        {
          "output_type": "stream",
          "text": [
            "200000/200000 [==============================] - 19s 94us/step - loss: 0.3245 - acc: 0.9370 - val_loss: 0.4196 - val_acc: 0.9066\n",
            "Epoch 36/50\n",
            "200000/200000 [==============================] - 19s 94us/step - loss: 0.3203 - acc: 0.9380 - val_loss: 0.4193 - val_acc: 0.9075\n",
            "Epoch 37/50\n",
            " 27648/200000 [===>..........................] - ETA: 15s - loss: 0.3153 - acc: 0.9409"
          ],
          "name": "stdout"
        },
        {
          "output_type": "stream",
          "text": [
            "200000/200000 [==============================] - 19s 94us/step - loss: 0.3163 - acc: 0.9393 - val_loss: 0.4170 - val_acc: 0.9065\n",
            "Epoch 38/50\n",
            "184064/200000 [==========================>...] - ETA: 1s - loss: 0.3127 - acc: 0.9409"
          ],
          "name": "stdout"
        },
        {
          "output_type": "stream",
          "text": [
            "200000/200000 [==============================] - 19s 94us/step - loss: 0.3124 - acc: 0.9408 - val_loss: 0.4157 - val_acc: 0.9066\n",
            "Epoch 39/50\n",
            "200000/200000 [==============================] - 19s 95us/step - loss: 0.3086 - acc: 0.9420 - val_loss: 0.4165 - val_acc: 0.9068\n",
            "Epoch 40/50\n",
            " 25408/200000 [==>...........................] - ETA: 16s - loss: 0.3031 - acc: 0.9449"
          ],
          "name": "stdout"
        },
        {
          "output_type": "stream",
          "text": [
            "200000/200000 [==============================] - 19s 94us/step - loss: 0.3048 - acc: 0.9427 - val_loss: 0.4148 - val_acc: 0.9073\n",
            "Epoch 41/50\n",
            "184256/200000 [==========================>...] - ETA: 1s - loss: 0.3011 - acc: 0.9442"
          ],
          "name": "stdout"
        },
        {
          "output_type": "stream",
          "text": [
            "200000/200000 [==============================] - 19s 94us/step - loss: 0.3012 - acc: 0.9440 - val_loss: 0.4122 - val_acc: 0.9064\n",
            "Epoch 42/50\n",
            "200000/200000 [==============================] - 19s 94us/step - loss: 0.2976 - acc: 0.9454 - val_loss: 0.4109 - val_acc: 0.9080\n",
            "Epoch 43/50\n",
            " 26560/200000 [==>...........................] - ETA: 15s - loss: 0.2865 - acc: 0.9485"
          ],
          "name": "stdout"
        },
        {
          "output_type": "stream",
          "text": [
            "200000/200000 [==============================] - 19s 94us/step - loss: 0.2941 - acc: 0.9460 - val_loss: 0.4142 - val_acc: 0.9065\n",
            "Epoch 44/50\n",
            "186112/200000 [==========================>...] - ETA: 1s - loss: 0.2899 - acc: 0.9477"
          ],
          "name": "stdout"
        },
        {
          "output_type": "stream",
          "text": [
            "200000/200000 [==============================] - 19s 94us/step - loss: 0.2907 - acc: 0.9475 - val_loss: 0.4102 - val_acc: 0.9086\n",
            "Epoch 45/50\n",
            "200000/200000 [==============================] - 19s 94us/step - loss: 0.2872 - acc: 0.9484 - val_loss: 0.4102 - val_acc: 0.9094\n",
            "Epoch 46/50\n",
            " 26944/200000 [===>..........................] - ETA: 16s - loss: 0.2783 - acc: 0.9519"
          ],
          "name": "stdout"
        },
        {
          "output_type": "stream",
          "text": [
            "200000/200000 [==============================] - 19s 94us/step - loss: 0.2841 - acc: 0.9495 - val_loss: 0.4080 - val_acc: 0.9088\n",
            "Epoch 47/50\n",
            "184064/200000 [==========================>...] - ETA: 1s - loss: 0.2806 - acc: 0.9505"
          ],
          "name": "stdout"
        },
        {
          "output_type": "stream",
          "text": [
            "200000/200000 [==============================] - 19s 94us/step - loss: 0.2807 - acc: 0.9504 - val_loss: 0.4076 - val_acc: 0.9095\n",
            "Epoch 48/50\n",
            "200000/200000 [==============================] - 19s 95us/step - loss: 0.2776 - acc: 0.9515 - val_loss: 0.4075 - val_acc: 0.9092\n",
            "Epoch 49/50\n",
            " 25856/200000 [==>...........................] - ETA: 16s - loss: 0.2696 - acc: 0.9546"
          ],
          "name": "stdout"
        },
        {
          "output_type": "stream",
          "text": [
            "200000/200000 [==============================] - 19s 94us/step - loss: 0.2746 - acc: 0.9522 - val_loss: 0.4091 - val_acc: 0.9092\n",
            "Epoch 50/50\n",
            "184576/200000 [==========================>...] - ETA: 1s - loss: 0.2707 - acc: 0.9538"
          ],
          "name": "stdout"
        },
        {
          "output_type": "stream",
          "text": [
            "200000/200000 [==============================] - 19s 94us/step - loss: 0.2715 - acc: 0.9534 - val_loss: 0.4054 - val_acc: 0.9098\n"
          ],
          "name": "stdout"
        }
      ]
    },
    {
      "metadata": {
        "id": "l2GC2n4yck9V",
        "colab_type": "code",
        "colab": {
          "autoexec": {
            "startup": false,
            "wait_interval": 0
          },
          "base_uri": "https://localhost:8080/",
          "height": 67
        },
        "outputId": "24fd1a95-a557-4201-86a9-9ffe2f096290",
        "executionInfo": {
          "status": "ok",
          "timestamp": 1531173153493,
          "user_tz": -330,
          "elapsed": 1795,
          "user": {
            "displayName": "aditya gupta",
            "photoUrl": "https://lh3.googleusercontent.com/a/default-user=s128",
            "userId": "113433956313086425402"
          }
        }
      },
      "cell_type": "code",
      "source": [
        "# Score trained model.\n",
        "scores = model.evaluate(test_dataset, test_labels, verbose=1)\n",
        "print('Test loss:', scores[0])\n",
        "print('Test accuracy:', scores[1])"
      ],
      "execution_count": 43,
      "outputs": [
        {
          "output_type": "stream",
          "text": [
            "10000/10000 [==============================] - 1s 74us/step\n",
            "Test loss: 0.21098018407821656\n",
            "Test accuracy: 0.9586\n"
          ],
          "name": "stdout"
        }
      ]
    },
    {
      "metadata": {
        "id": "K8_j5MbeDKCa",
        "colab_type": "text"
      },
      "cell_type": "markdown",
      "source": [
        "## Adding one dropout layer"
      ]
    },
    {
      "metadata": {
        "id": "cmuIJbuMCMQ6",
        "colab_type": "code",
        "colab": {
          "autoexec": {
            "startup": false,
            "wait_interval": 0
          },
          "base_uri": "https://localhost:8080/",
          "height": 1734
        },
        "outputId": "a4a59a05-d6e8-4b87-ba65-9794fc3650d4",
        "executionInfo": {
          "status": "ok",
          "timestamp": 1531175453145,
          "user_tz": -330,
          "elapsed": 997644,
          "user": {
            "displayName": "aditya gupta",
            "photoUrl": "https://lh3.googleusercontent.com/a/default-user=s128",
            "userId": "113433956313086425402"
          }
        }
      },
      "cell_type": "code",
      "source": [
        "# Set up the model\n",
        "model = Sequential()\n",
        "\n",
        "# Add the first layer and DROPOUT \n",
        "model.add(Dense(1024, activation = 'relu', input_shape = (784, ),kernel_regularizer=regularizers.l2(.00005),activity_regularizer=regularizers.l2(.00005), bias_regularizer = regularizers.l2(.00005)))\n",
        "model.add(Dropout(0.25))\n",
        "\n",
        "# Add the output layer\n",
        "model.add(Dense(10, activation='softmax'))\n",
        "\n",
        "# Create SGD optimizer with specified learning rate: my_optimizer\n",
        "my_optimizer = SGD()\n",
        "  \n",
        "\n",
        "# Compile the model\n",
        "model.compile(optimizer = my_optimizer, metrics = ['accuracy'], loss='categorical_crossentropy')\n",
        "\n",
        "# Fit the model\n",
        "with tf.device('/gpu:0'):\n",
        "  model.fit(train_dataset, train_labels, epochs=50, batch_size=64, validation_data=(valid_dataset, valid_labels))"
      ],
      "execution_count": 48,
      "outputs": [
        {
          "output_type": "stream",
          "text": [
            "Train on 200000 samples, validate on 10000 samples\n",
            "Epoch 1/50\n",
            "200000/200000 [==============================] - 20s 102us/step - loss: 0.9477 - acc: 0.8106 - val_loss: 0.7606 - val_acc: 0.8427\n",
            "Epoch 2/50\n",
            " 85248/200000 [===========>..................] - ETA: 11s - loss: 0.7654 - acc: 0.8396"
          ],
          "name": "stdout"
        },
        {
          "output_type": "stream",
          "text": [
            "200000/200000 [==============================] - 20s 100us/step - loss: 0.7440 - acc: 0.8425 - val_loss: 0.6854 - val_acc: 0.8538\n",
            "Epoch 3/50\n",
            "193152/200000 [===========================>..] - ETA: 0s - loss: 0.6849 - acc: 0.8521"
          ],
          "name": "stdout"
        },
        {
          "output_type": "stream",
          "text": [
            "200000/200000 [==============================] - 20s 100us/step - loss: 0.6851 - acc: 0.8519 - val_loss: 0.6443 - val_acc: 0.8594\n",
            "Epoch 4/50\n",
            "200000/200000 [==============================] - 20s 100us/step - loss: 0.6449 - acc: 0.8588 - val_loss: 0.6135 - val_acc: 0.8635\n",
            "Epoch 5/50\n",
            " 21824/200000 [==>...........................] - ETA: 17s - loss: 0.6139 - acc: 0.8678"
          ],
          "name": "stdout"
        },
        {
          "output_type": "stream",
          "text": [
            "200000/200000 [==============================] - 20s 100us/step - loss: 0.6144 - acc: 0.8645 - val_loss: 0.5896 - val_acc: 0.8686\n",
            "Epoch 6/50\n",
            "171200/200000 [========================>.....] - ETA: 2s - loss: 0.5922 - acc: 0.8685"
          ],
          "name": "stdout"
        },
        {
          "output_type": "stream",
          "text": [
            "200000/200000 [==============================] - 20s 100us/step - loss: 0.5901 - acc: 0.8692 - val_loss: 0.5702 - val_acc: 0.8722\n",
            "Epoch 7/50\n",
            "200000/200000 [==============================] - 20s 100us/step - loss: 0.5683 - acc: 0.8739 - val_loss: 0.5549 - val_acc: 0.8748\n",
            "Epoch 8/50\n",
            " 15616/200000 [=>............................] - ETA: 18s - loss: 0.5667 - acc: 0.8730"
          ],
          "name": "stdout"
        },
        {
          "output_type": "stream",
          "text": [
            "200000/200000 [==============================] - 20s 99us/step - loss: 0.5498 - acc: 0.8783 - val_loss: 0.5393 - val_acc: 0.8806\n",
            "Epoch 9/50\n",
            "169280/200000 [========================>.....] - ETA: 3s - loss: 0.5344 - acc: 0.8815"
          ],
          "name": "stdout"
        },
        {
          "output_type": "stream",
          "text": [
            "200000/200000 [==============================] - 20s 100us/step - loss: 0.5337 - acc: 0.8817 - val_loss: 0.5290 - val_acc: 0.8806\n",
            "Epoch 10/50\n",
            "200000/200000 [==============================] - 20s 99us/step - loss: 0.5199 - acc: 0.8846 - val_loss: 0.5178 - val_acc: 0.8833\n",
            "Epoch 11/50\n",
            " 16704/200000 [=>............................] - ETA: 17s - loss: 0.5096 - acc: 0.8886"
          ],
          "name": "stdout"
        },
        {
          "output_type": "stream",
          "text": [
            "200000/200000 [==============================] - 20s 99us/step - loss: 0.5068 - acc: 0.8868 - val_loss: 0.5075 - val_acc: 0.8859\n",
            "Epoch 12/50\n",
            "170688/200000 [========================>.....] - ETA: 2s - loss: 0.4967 - acc: 0.8902"
          ],
          "name": "stdout"
        },
        {
          "output_type": "stream",
          "text": [
            "200000/200000 [==============================] - 20s 99us/step - loss: 0.4946 - acc: 0.8909 - val_loss: 0.5012 - val_acc: 0.8870\n",
            "Epoch 13/50\n",
            "200000/200000 [==============================] - 20s 100us/step - loss: 0.4837 - acc: 0.8931 - val_loss: 0.4928 - val_acc: 0.8899\n",
            "Epoch 14/50\n",
            " 16832/200000 [=>............................] - ETA: 17s - loss: 0.4788 - acc: 0.8951"
          ],
          "name": "stdout"
        },
        {
          "output_type": "stream",
          "text": [
            "200000/200000 [==============================] - 20s 99us/step - loss: 0.4743 - acc: 0.8951 - val_loss: 0.4859 - val_acc: 0.8915\n",
            "Epoch 15/50\n",
            "169664/200000 [========================>.....] - ETA: 2s - loss: 0.4647 - acc: 0.8974"
          ],
          "name": "stdout"
        },
        {
          "output_type": "stream",
          "text": [
            "200000/200000 [==============================] - 20s 100us/step - loss: 0.4649 - acc: 0.8974 - val_loss: 0.4805 - val_acc: 0.8925\n",
            "Epoch 16/50\n",
            "200000/200000 [==============================] - 20s 100us/step - loss: 0.4566 - acc: 0.8994 - val_loss: 0.4757 - val_acc: 0.8939\n",
            "Epoch 17/50\n",
            " 15040/200000 [=>............................] - ETA: 18s - loss: 0.4407 - acc: 0.9011"
          ],
          "name": "stdout"
        },
        {
          "output_type": "stream",
          "text": [
            "200000/200000 [==============================] - 20s 100us/step - loss: 0.4481 - acc: 0.9014 - val_loss: 0.4700 - val_acc: 0.8950\n",
            "Epoch 18/50\n",
            "168320/200000 [========================>.....] - ETA: 3s - loss: 0.4401 - acc: 0.9040"
          ],
          "name": "stdout"
        },
        {
          "output_type": "stream",
          "text": [
            "200000/200000 [==============================] - 20s 99us/step - loss: 0.4407 - acc: 0.9034 - val_loss: 0.4659 - val_acc: 0.8961\n",
            "Epoch 19/50\n",
            "200000/200000 [==============================] - 20s 99us/step - loss: 0.4334 - acc: 0.9050 - val_loss: 0.4612 - val_acc: 0.8969\n",
            "Epoch 20/50\n",
            " 16256/200000 [=>............................] - ETA: 18s - loss: 0.4274 - acc: 0.9050"
          ],
          "name": "stdout"
        },
        {
          "output_type": "stream",
          "text": [
            "200000/200000 [==============================] - 20s 100us/step - loss: 0.4271 - acc: 0.9061 - val_loss: 0.4572 - val_acc: 0.8968\n",
            "Epoch 21/50\n",
            "168512/200000 [========================>.....] - ETA: 3s - loss: 0.4209 - acc: 0.9080"
          ],
          "name": "stdout"
        },
        {
          "output_type": "stream",
          "text": [
            "200000/200000 [==============================] - 20s 100us/step - loss: 0.4204 - acc: 0.9081 - val_loss: 0.4543 - val_acc: 0.8976\n",
            "Epoch 22/50\n",
            "200000/200000 [==============================] - 20s 100us/step - loss: 0.4139 - acc: 0.9096 - val_loss: 0.4517 - val_acc: 0.8988\n",
            "Epoch 23/50\n",
            " 15168/200000 [=>............................] - ETA: 18s - loss: 0.4095 - acc: 0.9095"
          ],
          "name": "stdout"
        },
        {
          "output_type": "stream",
          "text": [
            "200000/200000 [==============================] - 20s 100us/step - loss: 0.4084 - acc: 0.9109 - val_loss: 0.4468 - val_acc: 0.9007\n",
            "Epoch 24/50\n",
            "169088/200000 [========================>.....] - ETA: 3s - loss: 0.4016 - acc: 0.9126"
          ],
          "name": "stdout"
        },
        {
          "output_type": "stream",
          "text": [
            "200000/200000 [==============================] - 20s 100us/step - loss: 0.4023 - acc: 0.9124 - val_loss: 0.4440 - val_acc: 0.8997\n",
            "Epoch 25/50\n",
            "200000/200000 [==============================] - 20s 100us/step - loss: 0.3980 - acc: 0.9136 - val_loss: 0.4415 - val_acc: 0.8999\n",
            "Epoch 26/50\n",
            " 15104/200000 [=>............................] - ETA: 18s - loss: 0.3825 - acc: 0.9181"
          ],
          "name": "stdout"
        },
        {
          "output_type": "stream",
          "text": [
            "200000/200000 [==============================] - 20s 100us/step - loss: 0.3921 - acc: 0.9147 - val_loss: 0.4382 - val_acc: 0.9016\n",
            "Epoch 27/50\n",
            "166720/200000 [========================>.....] - ETA: 3s - loss: 0.3875 - acc: 0.9166"
          ],
          "name": "stdout"
        },
        {
          "output_type": "stream",
          "text": [
            "200000/200000 [==============================] - 20s 101us/step - loss: 0.3878 - acc: 0.9165 - val_loss: 0.4366 - val_acc: 0.9013\n",
            "Epoch 28/50\n",
            "200000/200000 [==============================] - 20s 100us/step - loss: 0.3819 - acc: 0.9178 - val_loss: 0.4328 - val_acc: 0.9022\n",
            "Epoch 29/50\n",
            " 13248/200000 [>.............................] - ETA: 18s - loss: 0.3772 - acc: 0.9192"
          ],
          "name": "stdout"
        },
        {
          "output_type": "stream",
          "text": [
            "200000/200000 [==============================] - 20s 100us/step - loss: 0.3773 - acc: 0.9184 - val_loss: 0.4316 - val_acc: 0.9033\n",
            "Epoch 30/50\n",
            "167744/200000 [========================>.....] - ETA: 3s - loss: 0.3736 - acc: 0.9193"
          ],
          "name": "stdout"
        },
        {
          "output_type": "stream",
          "text": [
            "200000/200000 [==============================] - 20s 99us/step - loss: 0.3731 - acc: 0.9196 - val_loss: 0.4300 - val_acc: 0.9033\n",
            "Epoch 31/50\n",
            "200000/200000 [==============================] - 20s 100us/step - loss: 0.3699 - acc: 0.9203 - val_loss: 0.4278 - val_acc: 0.9029\n",
            "Epoch 32/50\n",
            " 15232/200000 [=>............................] - ETA: 18s - loss: 0.3629 - acc: 0.9242"
          ],
          "name": "stdout"
        },
        {
          "output_type": "stream",
          "text": [
            "200000/200000 [==============================] - 20s 99us/step - loss: 0.3644 - acc: 0.9217 - val_loss: 0.4268 - val_acc: 0.9027\n",
            "Epoch 33/50\n",
            "168000/200000 [========================>.....] - ETA: 3s - loss: 0.3598 - acc: 0.9236"
          ],
          "name": "stdout"
        },
        {
          "output_type": "stream",
          "text": [
            "200000/200000 [==============================] - 20s 100us/step - loss: 0.3608 - acc: 0.9232 - val_loss: 0.4233 - val_acc: 0.9043\n",
            "Epoch 34/50\n",
            "200000/200000 [==============================] - 20s 99us/step - loss: 0.3565 - acc: 0.9238 - val_loss: 0.4223 - val_acc: 0.9045\n",
            "Epoch 35/50\n",
            " 16768/200000 [=>............................] - ETA: 18s - loss: 0.3469 - acc: 0.9263"
          ],
          "name": "stdout"
        },
        {
          "output_type": "stream",
          "text": [
            "200000/200000 [==============================] - 20s 99us/step - loss: 0.3527 - acc: 0.9250 - val_loss: 0.4205 - val_acc: 0.9042\n",
            "Epoch 36/50\n",
            "172224/200000 [========================>.....] - ETA: 2s - loss: 0.3495 - acc: 0.9258"
          ],
          "name": "stdout"
        },
        {
          "output_type": "stream",
          "text": [
            "200000/200000 [==============================] - 20s 98us/step - loss: 0.3490 - acc: 0.9260 - val_loss: 0.4197 - val_acc: 0.9063\n",
            "Epoch 37/50\n",
            "200000/200000 [==============================] - 20s 99us/step - loss: 0.3450 - acc: 0.9266 - val_loss: 0.4164 - val_acc: 0.9063\n",
            "Epoch 38/50\n",
            " 17536/200000 [=>............................] - ETA: 17s - loss: 0.3362 - acc: 0.9303"
          ],
          "name": "stdout"
        },
        {
          "output_type": "stream",
          "text": [
            "200000/200000 [==============================] - 20s 99us/step - loss: 0.3415 - acc: 0.9282 - val_loss: 0.4146 - val_acc: 0.9066\n",
            "Epoch 39/50\n",
            "172032/200000 [========================>.....] - ETA: 2s - loss: 0.3371 - acc: 0.9293"
          ],
          "name": "stdout"
        },
        {
          "output_type": "stream",
          "text": [
            "200000/200000 [==============================] - 20s 99us/step - loss: 0.3378 - acc: 0.9293 - val_loss: 0.4142 - val_acc: 0.9079\n",
            "Epoch 40/50\n",
            "200000/200000 [==============================] - 20s 99us/step - loss: 0.3345 - acc: 0.9299 - val_loss: 0.4117 - val_acc: 0.9081\n",
            "Epoch 41/50\n",
            " 17536/200000 [=>............................] - ETA: 17s - loss: 0.3297 - acc: 0.9329"
          ],
          "name": "stdout"
        },
        {
          "output_type": "stream",
          "text": [
            "200000/200000 [==============================] - 20s 101us/step - loss: 0.3309 - acc: 0.9307 - val_loss: 0.4126 - val_acc: 0.9072\n",
            "Epoch 42/50\n",
            "167424/200000 [========================>.....] - ETA: 3s - loss: 0.3290 - acc: 0.9313"
          ],
          "name": "stdout"
        },
        {
          "output_type": "stream",
          "text": [
            "200000/200000 [==============================] - 20s 99us/step - loss: 0.3284 - acc: 0.9315 - val_loss: 0.4113 - val_acc: 0.9064\n",
            "Epoch 43/50\n",
            "200000/200000 [==============================] - 20s 99us/step - loss: 0.3242 - acc: 0.9333 - val_loss: 0.4085 - val_acc: 0.9082\n",
            "Epoch 44/50\n",
            " 16448/200000 [=>............................] - ETA: 17s - loss: 0.3192 - acc: 0.9359"
          ],
          "name": "stdout"
        },
        {
          "output_type": "stream",
          "text": [
            "200000/200000 [==============================] - 20s 100us/step - loss: 0.3213 - acc: 0.9336 - val_loss: 0.4082 - val_acc: 0.9068\n",
            "Epoch 45/50\n",
            "167360/200000 [========================>.....] - ETA: 3s - loss: 0.3190 - acc: 0.9345"
          ],
          "name": "stdout"
        },
        {
          "output_type": "stream",
          "text": [
            "200000/200000 [==============================] - 20s 100us/step - loss: 0.3183 - acc: 0.9345 - val_loss: 0.4073 - val_acc: 0.9080\n",
            "Epoch 46/50\n",
            "200000/200000 [==============================] - 20s 100us/step - loss: 0.3151 - acc: 0.9352 - val_loss: 0.4077 - val_acc: 0.9090\n",
            "Epoch 47/50\n",
            " 14592/200000 [=>............................] - ETA: 18s - loss: 0.3058 - acc: 0.9381"
          ],
          "name": "stdout"
        },
        {
          "output_type": "stream",
          "text": [
            "200000/200000 [==============================] - 20s 100us/step - loss: 0.3126 - acc: 0.9359 - val_loss: 0.4049 - val_acc: 0.9082\n",
            "Epoch 48/50\n",
            "167744/200000 [========================>.....] - ETA: 3s - loss: 0.3085 - acc: 0.9373"
          ],
          "name": "stdout"
        },
        {
          "output_type": "stream",
          "text": [
            "200000/200000 [==============================] - 20s 99us/step - loss: 0.3097 - acc: 0.9369 - val_loss: 0.4051 - val_acc: 0.9083\n",
            "Epoch 49/50\n",
            "200000/200000 [==============================] - 20s 99us/step - loss: 0.3069 - acc: 0.9377 - val_loss: 0.4051 - val_acc: 0.9095\n",
            "Epoch 50/50\n",
            " 17280/200000 [=>............................] - ETA: 17s - loss: 0.3038 - acc: 0.9387"
          ],
          "name": "stdout"
        },
        {
          "output_type": "stream",
          "text": [
            "200000/200000 [==============================] - 20s 99us/step - loss: 0.3040 - acc: 0.9378 - val_loss: 0.4030 - val_acc: 0.9099\n"
          ],
          "name": "stdout"
        }
      ]
    },
    {
      "metadata": {
        "id": "WzDpXklvDJBl",
        "colab_type": "code",
        "colab": {
          "autoexec": {
            "startup": false,
            "wait_interval": 0
          },
          "base_uri": "https://localhost:8080/",
          "height": 67
        },
        "outputId": "bf389c69-ae95-4d02-b4af-6f333c16ed88",
        "executionInfo": {
          "status": "ok",
          "timestamp": 1531175580030,
          "user_tz": -330,
          "elapsed": 1365,
          "user": {
            "displayName": "aditya gupta",
            "photoUrl": "https://lh3.googleusercontent.com/a/default-user=s128",
            "userId": "113433956313086425402"
          }
        }
      },
      "cell_type": "code",
      "source": [
        "# Score trained model.\n",
        "scores = model.evaluate(test_dataset, test_labels, verbose=1)\n",
        "print('Test loss:', scores[0])\n",
        "print('Test accuracy:', scores[1])"
      ],
      "execution_count": 49,
      "outputs": [
        {
          "output_type": "stream",
          "text": [
            "10000/10000 [==============================] - 1s 69us/step\n",
            "Test loss: 0.2142465713262558\n",
            "Test accuracy: 0.9569\n"
          ],
          "name": "stdout"
        }
      ]
    },
    {
      "metadata": {
        "id": "cG6ZKM-_QJOY",
        "colab_type": "text"
      },
      "cell_type": "markdown",
      "source": [
        "## Dropout Layer without regularization"
      ]
    },
    {
      "metadata": {
        "id": "nvArFpJYLbyK",
        "colab_type": "code",
        "colab": {
          "autoexec": {
            "startup": false,
            "wait_interval": 0
          },
          "base_uri": "https://localhost:8080/",
          "height": 1734
        },
        "outputId": "4f7e41a6-fcb3-46e2-da8a-53f3feb14d41",
        "executionInfo": {
          "status": "ok",
          "timestamp": 1531176541924,
          "user_tz": -330,
          "elapsed": 913197,
          "user": {
            "displayName": "aditya gupta",
            "photoUrl": "https://lh3.googleusercontent.com/a/default-user=s128",
            "userId": "113433956313086425402"
          }
        }
      },
      "cell_type": "code",
      "source": [
        "# Set up the model\n",
        "model = Sequential()\n",
        "\n",
        "# Add the first layer AND DROPOUT \n",
        "model.add(Dense(1024, activation = 'relu', input_shape = (784, )))\n",
        "model.add(Dropout(0.25))\n",
        "\n",
        "# Add the output layer\n",
        "model.add(Dense(10, activation='softmax'))\n",
        "\n",
        "# Create SGD optimizer with specified learning rate: my_optimizer\n",
        "my_optimizer = SGD()\n",
        "  \n",
        "\n",
        "# Compile the model\n",
        "model.compile(optimizer = my_optimizer, metrics = ['accuracy'], loss='categorical_crossentropy')\n",
        "\n",
        "# Fit the model\n",
        "with tf.device('/gpu:0'):\n",
        "  model.fit(train_dataset, train_labels, epochs=50, batch_size=64, validation_data=(valid_dataset, valid_labels))"
      ],
      "execution_count": 50,
      "outputs": [
        {
          "output_type": "stream",
          "text": [
            "Train on 200000 samples, validate on 10000 samples\n",
            "Epoch 1/50\n",
            "200000/200000 [==============================] - 18s 92us/step - loss: 0.6862 - acc: 0.8094 - val_loss: 0.5410 - val_acc: 0.8453\n",
            "Epoch 2/50\n",
            "102912/200000 [==============>...............] - ETA: 8s - loss: 0.5614 - acc: 0.8400"
          ],
          "name": "stdout"
        },
        {
          "output_type": "stream",
          "text": [
            "200000/200000 [==============================] - 18s 91us/step - loss: 0.5502 - acc: 0.8429 - val_loss: 0.5002 - val_acc: 0.8569\n",
            "Epoch 3/50\n",
            "200000/200000 [==============================] - 18s 91us/step - loss: 0.5140 - acc: 0.8515 - val_loss: 0.4756 - val_acc: 0.8627\n",
            "Epoch 4/50\n",
            " 11584/200000 [>.............................] - ETA: 17s - loss: 0.4812 - acc: 0.8639"
          ],
          "name": "stdout"
        },
        {
          "output_type": "stream",
          "text": [
            "200000/200000 [==============================] - 18s 91us/step - loss: 0.4888 - acc: 0.8587 - val_loss: 0.4573 - val_acc: 0.8694\n",
            "Epoch 5/50\n",
            "186816/200000 [===========================>..] - ETA: 1s - loss: 0.4703 - acc: 0.8637"
          ],
          "name": "stdout"
        },
        {
          "output_type": "stream",
          "text": [
            "200000/200000 [==============================] - 18s 91us/step - loss: 0.4694 - acc: 0.8639 - val_loss: 0.4408 - val_acc: 0.8727\n",
            "Epoch 6/50\n",
            "200000/200000 [==============================] - 18s 92us/step - loss: 0.4526 - acc: 0.8688 - val_loss: 0.4286 - val_acc: 0.8762\n",
            "Epoch 7/50\n",
            " 31808/200000 [===>..........................] - ETA: 15s - loss: 0.4399 - acc: 0.8718"
          ],
          "name": "stdout"
        },
        {
          "output_type": "stream",
          "text": [
            "200000/200000 [==============================] - 18s 91us/step - loss: 0.4381 - acc: 0.8730 - val_loss: 0.4181 - val_acc: 0.8798\n",
            "Epoch 8/50\n",
            "195008/200000 [============================>.] - ETA: 0s - loss: 0.4252 - acc: 0.8772"
          ],
          "name": "stdout"
        },
        {
          "output_type": "stream",
          "text": [
            "200000/200000 [==============================] - 18s 91us/step - loss: 0.4251 - acc: 0.8772 - val_loss: 0.4082 - val_acc: 0.8830\n",
            "Epoch 9/50\n",
            "200000/200000 [==============================] - 18s 92us/step - loss: 0.4139 - acc: 0.8797 - val_loss: 0.4012 - val_acc: 0.8854\n",
            "Epoch 10/50\n",
            " 32640/200000 [===>..........................] - ETA: 14s - loss: 0.4115 - acc: 0.8822"
          ],
          "name": "stdout"
        },
        {
          "output_type": "stream",
          "text": [
            "200000/200000 [==============================] - 18s 91us/step - loss: 0.4041 - acc: 0.8832 - val_loss: 0.3939 - val_acc: 0.8880\n",
            "Epoch 11/50\n",
            "195392/200000 [============================>.] - ETA: 0s - loss: 0.3951 - acc: 0.8855"
          ],
          "name": "stdout"
        },
        {
          "output_type": "stream",
          "text": [
            "200000/200000 [==============================] - 18s 91us/step - loss: 0.3948 - acc: 0.8856 - val_loss: 0.3880 - val_acc: 0.8881\n",
            "Epoch 12/50\n",
            "200000/200000 [==============================] - 18s 91us/step - loss: 0.3878 - acc: 0.8880 - val_loss: 0.3819 - val_acc: 0.8920\n",
            "Epoch 13/50\n",
            " 33216/200000 [===>..........................] - ETA: 15s - loss: 0.3849 - acc: 0.8890"
          ],
          "name": "stdout"
        },
        {
          "output_type": "stream",
          "text": [
            "200000/200000 [==============================] - 18s 92us/step - loss: 0.3802 - acc: 0.8898 - val_loss: 0.3779 - val_acc: 0.8925\n",
            "Epoch 14/50\n",
            "192512/200000 [===========================>..] - ETA: 0s - loss: 0.3740 - acc: 0.8919"
          ],
          "name": "stdout"
        },
        {
          "output_type": "stream",
          "text": [
            "200000/200000 [==============================] - 18s 92us/step - loss: 0.3735 - acc: 0.8921 - val_loss: 0.3733 - val_acc: 0.8941\n",
            "Epoch 15/50\n",
            "200000/200000 [==============================] - 18s 92us/step - loss: 0.3667 - acc: 0.8942 - val_loss: 0.3701 - val_acc: 0.8946\n",
            "Epoch 16/50\n",
            " 30528/200000 [===>..........................] - ETA: 15s - loss: 0.3567 - acc: 0.8962"
          ],
          "name": "stdout"
        },
        {
          "output_type": "stream",
          "text": [
            "200000/200000 [==============================] - 18s 92us/step - loss: 0.3610 - acc: 0.8955 - val_loss: 0.3658 - val_acc: 0.8963\n",
            "Epoch 17/50\n",
            "191104/200000 [===========================>..] - ETA: 0s - loss: 0.3552 - acc: 0.8974"
          ],
          "name": "stdout"
        },
        {
          "output_type": "stream",
          "text": [
            "200000/200000 [==============================] - 18s 92us/step - loss: 0.3549 - acc: 0.8974 - val_loss: 0.3626 - val_acc: 0.8971\n",
            "Epoch 18/50\n",
            "200000/200000 [==============================] - 18s 92us/step - loss: 0.3493 - acc: 0.8987 - val_loss: 0.3597 - val_acc: 0.8976\n",
            "Epoch 19/50\n",
            " 31360/200000 [===>..........................] - ETA: 15s - loss: 0.3371 - acc: 0.9024"
          ],
          "name": "stdout"
        },
        {
          "output_type": "stream",
          "text": [
            "200000/200000 [==============================] - 18s 92us/step - loss: 0.3451 - acc: 0.8998 - val_loss: 0.3559 - val_acc: 0.8978\n",
            "Epoch 20/50\n",
            "196032/200000 [============================>.] - ETA: 0s - loss: 0.3402 - acc: 0.9014"
          ],
          "name": "stdout"
        },
        {
          "output_type": "stream",
          "text": [
            "200000/200000 [==============================] - 18s 90us/step - loss: 0.3407 - acc: 0.9013 - val_loss: 0.3549 - val_acc: 0.8986\n",
            "Epoch 21/50\n",
            "200000/200000 [==============================] - 18s 91us/step - loss: 0.3362 - acc: 0.9025 - val_loss: 0.3520 - val_acc: 0.9001\n",
            "Epoch 22/50\n",
            " 33664/200000 [====>.........................] - ETA: 15s - loss: 0.3280 - acc: 0.9057"
          ],
          "name": "stdout"
        },
        {
          "output_type": "stream",
          "text": [
            "200000/200000 [==============================] - 18s 91us/step - loss: 0.3312 - acc: 0.9044 - val_loss: 0.3503 - val_acc: 0.9009\n",
            "Epoch 23/50\n",
            "194240/200000 [============================>.] - ETA: 0s - loss: 0.3268 - acc: 0.9052"
          ],
          "name": "stdout"
        },
        {
          "output_type": "stream",
          "text": [
            "200000/200000 [==============================] - 18s 92us/step - loss: 0.3268 - acc: 0.9052 - val_loss: 0.3471 - val_acc: 0.9009\n",
            "Epoch 24/50\n",
            "200000/200000 [==============================] - 18s 91us/step - loss: 0.3235 - acc: 0.9060 - val_loss: 0.3469 - val_acc: 0.9020\n",
            "Epoch 25/50\n",
            " 32704/200000 [===>..........................] - ETA: 15s - loss: 0.3131 - acc: 0.9099"
          ],
          "name": "stdout"
        },
        {
          "output_type": "stream",
          "text": [
            "200000/200000 [==============================] - 18s 91us/step - loss: 0.3191 - acc: 0.9076 - val_loss: 0.3443 - val_acc: 0.9014\n",
            "Epoch 26/50\n",
            "195072/200000 [============================>.] - ETA: 0s - loss: 0.3161 - acc: 0.9086"
          ],
          "name": "stdout"
        },
        {
          "output_type": "stream",
          "text": [
            "200000/200000 [==============================] - 18s 91us/step - loss: 0.3159 - acc: 0.9087 - val_loss: 0.3424 - val_acc: 0.9016\n",
            "Epoch 27/50\n",
            "200000/200000 [==============================] - 18s 91us/step - loss: 0.3124 - acc: 0.9098 - val_loss: 0.3407 - val_acc: 0.9033\n",
            "Epoch 28/50\n",
            " 33856/200000 [====>.........................] - ETA: 14s - loss: 0.3014 - acc: 0.9122"
          ],
          "name": "stdout"
        },
        {
          "output_type": "stream",
          "text": [
            "200000/200000 [==============================] - 18s 91us/step - loss: 0.3088 - acc: 0.9103 - val_loss: 0.3391 - val_acc: 0.9045\n",
            "Epoch 29/50\n",
            "193920/200000 [============================>.] - ETA: 0s - loss: 0.3050 - acc: 0.9112"
          ],
          "name": "stdout"
        },
        {
          "output_type": "stream",
          "text": [
            "200000/200000 [==============================] - 18s 91us/step - loss: 0.3053 - acc: 0.9112 - val_loss: 0.3374 - val_acc: 0.9050\n",
            "Epoch 30/50\n",
            "200000/200000 [==============================] - 18s 92us/step - loss: 0.3016 - acc: 0.9120 - val_loss: 0.3366 - val_acc: 0.9028\n",
            "Epoch 31/50\n",
            " 32000/200000 [===>..........................] - ETA: 15s - loss: 0.2947 - acc: 0.9144"
          ],
          "name": "stdout"
        },
        {
          "output_type": "stream",
          "text": [
            "200000/200000 [==============================] - 18s 91us/step - loss: 0.2987 - acc: 0.9137 - val_loss: 0.3360 - val_acc: 0.9047\n",
            "Epoch 32/50\n",
            "194816/200000 [============================>.] - ETA: 0s - loss: 0.2965 - acc: 0.9143"
          ],
          "name": "stdout"
        },
        {
          "output_type": "stream",
          "text": [
            "200000/200000 [==============================] - 18s 91us/step - loss: 0.2964 - acc: 0.9143 - val_loss: 0.3336 - val_acc: 0.9047\n",
            "Epoch 33/50\n",
            "200000/200000 [==============================] - 18s 90us/step - loss: 0.2938 - acc: 0.9147 - val_loss: 0.3322 - val_acc: 0.9060\n",
            "Epoch 34/50\n",
            " 34560/200000 [====>.........................] - ETA: 14s - loss: 0.2840 - acc: 0.9171"
          ],
          "name": "stdout"
        },
        {
          "output_type": "stream",
          "text": [
            "200000/200000 [==============================] - 18s 91us/step - loss: 0.2896 - acc: 0.9159 - val_loss: 0.3322 - val_acc: 0.9052\n",
            "Epoch 35/50\n",
            "196160/200000 [============================>.] - ETA: 0s - loss: 0.2863 - acc: 0.9165"
          ],
          "name": "stdout"
        },
        {
          "output_type": "stream",
          "text": [
            "200000/200000 [==============================] - 18s 91us/step - loss: 0.2862 - acc: 0.9165 - val_loss: 0.3304 - val_acc: 0.9074\n",
            "Epoch 36/50\n",
            "200000/200000 [==============================] - 18s 91us/step - loss: 0.2837 - acc: 0.9177 - val_loss: 0.3291 - val_acc: 0.9059\n",
            "Epoch 37/50\n",
            " 33920/200000 [====>.........................] - ETA: 14s - loss: 0.2814 - acc: 0.9185"
          ],
          "name": "stdout"
        },
        {
          "output_type": "stream",
          "text": [
            "200000/200000 [==============================] - 18s 91us/step - loss: 0.2811 - acc: 0.9180 - val_loss: 0.3286 - val_acc: 0.9072\n",
            "Epoch 38/50\n",
            "197376/200000 [============================>.] - ETA: 0s - loss: 0.2788 - acc: 0.9190"
          ],
          "name": "stdout"
        },
        {
          "output_type": "stream",
          "text": [
            "200000/200000 [==============================] - 18s 90us/step - loss: 0.2785 - acc: 0.9191 - val_loss: 0.3286 - val_acc: 0.9073\n",
            "Epoch 39/50\n",
            "200000/200000 [==============================] - 18s 91us/step - loss: 0.2753 - acc: 0.9204 - val_loss: 0.3269 - val_acc: 0.9078\n",
            "Epoch 40/50\n",
            " 34816/200000 [====>.........................] - ETA: 14s - loss: 0.2697 - acc: 0.9213"
          ],
          "name": "stdout"
        },
        {
          "output_type": "stream",
          "text": [
            "200000/200000 [==============================] - 18s 91us/step - loss: 0.2730 - acc: 0.9209 - val_loss: 0.3266 - val_acc: 0.9063\n",
            "Epoch 41/50\n",
            "195840/200000 [============================>.] - ETA: 0s - loss: 0.2698 - acc: 0.9218"
          ],
          "name": "stdout"
        },
        {
          "output_type": "stream",
          "text": [
            "200000/200000 [==============================] - 18s 91us/step - loss: 0.2701 - acc: 0.9217 - val_loss: 0.3261 - val_acc: 0.9081\n",
            "Epoch 42/50\n",
            "200000/200000 [==============================] - 18s 91us/step - loss: 0.2685 - acc: 0.9223 - val_loss: 0.3263 - val_acc: 0.9076\n",
            "Epoch 43/50\n",
            " 33920/200000 [====>.........................] - ETA: 14s - loss: 0.2645 - acc: 0.9236"
          ],
          "name": "stdout"
        },
        {
          "output_type": "stream",
          "text": [
            "200000/200000 [==============================] - 18s 91us/step - loss: 0.2656 - acc: 0.9226 - val_loss: 0.3257 - val_acc: 0.9080\n",
            "Epoch 44/50\n",
            "194944/200000 [============================>.] - ETA: 0s - loss: 0.2637 - acc: 0.9235"
          ],
          "name": "stdout"
        },
        {
          "output_type": "stream",
          "text": [
            "200000/200000 [==============================] - 18s 91us/step - loss: 0.2638 - acc: 0.9234 - val_loss: 0.3245 - val_acc: 0.9070\n",
            "Epoch 45/50\n",
            "200000/200000 [==============================] - 18s 91us/step - loss: 0.2609 - acc: 0.9241 - val_loss: 0.3232 - val_acc: 0.9089\n",
            "Epoch 46/50\n",
            " 33856/200000 [====>.........................] - ETA: 14s - loss: 0.2575 - acc: 0.9247"
          ],
          "name": "stdout"
        },
        {
          "output_type": "stream",
          "text": [
            "200000/200000 [==============================] - 18s 91us/step - loss: 0.2577 - acc: 0.9254 - val_loss: 0.3233 - val_acc: 0.9091\n",
            "Epoch 47/50\n",
            "194496/200000 [============================>.] - ETA: 0s - loss: 0.2572 - acc: 0.9253"
          ],
          "name": "stdout"
        },
        {
          "output_type": "stream",
          "text": [
            "200000/200000 [==============================] - 18s 91us/step - loss: 0.2570 - acc: 0.9254 - val_loss: 0.3242 - val_acc: 0.9088\n",
            "Epoch 48/50\n",
            "200000/200000 [==============================] - 18s 91us/step - loss: 0.2537 - acc: 0.9267 - val_loss: 0.3228 - val_acc: 0.9094\n",
            "Epoch 49/50\n",
            " 33728/200000 [====>.........................] - ETA: 14s - loss: 0.2512 - acc: 0.9267"
          ],
          "name": "stdout"
        },
        {
          "output_type": "stream",
          "text": [
            "200000/200000 [==============================] - 18s 91us/step - loss: 0.2517 - acc: 0.9268 - val_loss: 0.3217 - val_acc: 0.9095\n",
            "Epoch 50/50\n",
            "194880/200000 [============================>.] - ETA: 0s - loss: 0.2497 - acc: 0.9273"
          ],
          "name": "stdout"
        },
        {
          "output_type": "stream",
          "text": [
            "200000/200000 [==============================] - 18s 91us/step - loss: 0.2492 - acc: 0.9273 - val_loss: 0.3224 - val_acc: 0.9092\n"
          ],
          "name": "stdout"
        }
      ]
    },
    {
      "metadata": {
        "id": "xELGnTETLg1Q",
        "colab_type": "code",
        "colab": {
          "autoexec": {
            "startup": false,
            "wait_interval": 0
          },
          "base_uri": "https://localhost:8080/",
          "height": 67
        },
        "outputId": "bd28aa03-3040-4ad8-9443-341c5d37550b",
        "executionInfo": {
          "status": "ok",
          "timestamp": 1531176880440,
          "user_tz": -330,
          "elapsed": 1762,
          "user": {
            "displayName": "aditya gupta",
            "photoUrl": "https://lh3.googleusercontent.com/a/default-user=s128",
            "userId": "113433956313086425402"
          }
        }
      },
      "cell_type": "code",
      "source": [
        "# Score trained model.\n",
        "scores = model.evaluate(test_dataset, test_labels, verbose=1)\n",
        "print('Test loss:', scores[0])\n",
        "print('Test accuracy:', scores[1])"
      ],
      "execution_count": 53,
      "outputs": [
        {
          "output_type": "stream",
          "text": [
            "10000/10000 [==============================] - 1s 65us/step\n",
            "Test loss: 0.14998465966880323\n",
            "Test accuracy: 0.9592\n"
          ],
          "name": "stdout"
        }
      ]
    }
  ]
}