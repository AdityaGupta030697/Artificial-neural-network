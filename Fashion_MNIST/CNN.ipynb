{
  "nbformat": 4,
  "nbformat_minor": 0,
  "metadata": {
    "colab": {
      "name": "Fashion_MNIST_CNN.ipynb",
      "version": "0.3.2",
      "provenance": []
    },
    "kernelspec": {
      "name": "python3",
      "display_name": "Python 3"
    },
    "accelerator": "GPU"
  },
  "cells": [
    {
      "metadata": {
        "id": "Rt4LJYQ1l9Sk",
        "colab_type": "code",
        "colab": {
          "base_uri": "https://localhost:8080/",
          "height": 33
        },
        "outputId": "d3ffa1b2-d7ce-4118-ed41-72badc3b7b34"
      },
      "cell_type": "code",
      "source": [
        "# Check for GPU presence\n",
        "import tensorflow as tf\n",
        "device_name = tf.test.gpu_device_name()\n",
        "if device_name != '/device:GPU:0':\n",
        "  raise SystemError('GPU device not found')\n",
        "print('Found GPU at: {}'.format(device_name))"
      ],
      "execution_count": 1,
      "outputs": [
        {
          "output_type": "stream",
          "text": [
            "Found GPU at: /device:GPU:0\n"
          ],
          "name": "stdout"
        }
      ]
    },
    {
      "metadata": {
        "id": "GKCXA_v0mrdP",
        "colab_type": "code",
        "colab": {
          "base_uri": "https://localhost:8080/",
          "height": 37
        },
        "outputId": "09235aa3-d797-4ae8-cdbb-a7b2c921ddaa"
      },
      "cell_type": "code",
      "source": [
        "# Importing Libraries\n",
        "import pandas as pd\n",
        "import numpy as np\n",
        "import keras\n",
        "from keras.utils import to_categorical\n",
        "import matplotlib.pyplot as plt"
      ],
      "execution_count": 7,
      "outputs": []
    },
    {
      "metadata": {
        "id": "hUW8t4FGmtYU",
        "colab_type": "code",
        "colab": {
          "base_uri": "https://localhost:8080/",
          "height": 37
        },
        "outputId": "dee9a393-d5f5-4d85-c318-a51e3b96a9bc"
      },
      "cell_type": "code",
      "source": [
        "# Downloading fashion Mnist dataset and dividing it into train and test sets.\n",
        "from keras.datasets import fashion_mnist\n",
        "(train_X,train_Y), (test_X,test_Y) = fashion_mnist.load_data()"
      ],
      "execution_count": 6,
      "outputs": []
    },
    {
      "metadata": {
        "id": "lSpRO70MnT9O",
        "colab_type": "code",
        "colab": {
          "base_uri": "https://localhost:8080/",
          "height": 50
        },
        "outputId": "2a4c427f-265a-46c5-c3ed-ef7387f471e1"
      },
      "cell_type": "code",
      "source": [
        "# Data Analysis\n",
        "%matplotlib inline\n",
        "\n",
        "print('Training data shape : ', train_X.shape, train_Y.shape)\n",
        "\n",
        "print('Testing data shape : ', test_X.shape, test_Y.shape)"
      ],
      "execution_count": 8,
      "outputs": [
        {
          "output_type": "stream",
          "text": [
            "Training data shape :  (60000, 28, 28) (60000,)\n",
            "Testing data shape :  (10000, 28, 28) (10000,)\n"
          ],
          "name": "stdout"
        }
      ]
    },
    {
      "metadata": {
        "id": "alWp8Nr-nxWQ",
        "colab_type": "code",
        "colab": {
          "base_uri": "https://localhost:8080/",
          "height": 50
        },
        "outputId": "ea80cfb1-d7ec-4925-b971-57095aad4d5e"
      },
      "cell_type": "code",
      "source": [
        "# Finding the unique numbers from the train labels\n",
        "classes = np.unique(train_Y)\n",
        "nClasses = len(classes)\n",
        "print('Total number of outputs : ', nClasses)\n",
        "print('Output classes : ', classes)"
      ],
      "execution_count": 9,
      "outputs": [
        {
          "output_type": "stream",
          "text": [
            "Total number of outputs :  10\n",
            "Output classes :  [0 1 2 3 4 5 6 7 8 9]\n"
          ],
          "name": "stdout"
        }
      ]
    },
    {
      "metadata": {
        "id": "bfySsOnCn_up",
        "colab_type": "code",
        "colab": {
          "base_uri": "https://localhost:8080/",
          "height": 206
        },
        "outputId": "3b96f007-cb24-41fa-96fe-24b46b44ceef"
      },
      "cell_type": "code",
      "source": [
        "# Image Viz\n",
        "plt.figure(figsize=[5,5])\n",
        "\n",
        "# Display the first image in training data\n",
        "plt.subplot(121)\n",
        "plt.imshow(train_X[0,:,:], cmap='gray')\n",
        "plt.title(\"Ground Truth : {}\".format(train_Y[0]))\n",
        "\n",
        "# Display the first image in testing data\n",
        "plt.subplot(122)\n",
        "plt.imshow(test_X[0,:,:], cmap='gray')\n",
        "plt.title(\"Ground Truth : {}\".format(test_Y[0]))"
      ],
      "execution_count": 10,
      "outputs": [
        {
          "output_type": "execute_result",
          "data": {
            "text/plain": [
              "Text(0.5,1,'Ground Truth : 9')"
            ]
          },
          "metadata": {
            "tags": []
          },
          "execution_count": 10
        },
        {
          "output_type": "display_data",
          "data": {
            "image/png": "[encoded data removed]",
            "text/plain": [
              "<matplotlib.figure.Figure at 0x7f6f911d5160>"
            ]
          },
          "metadata": {
            "tags": []
          }
        }
      ]
    },
    {
      "metadata": {
        "id": "EWqUzDddonou",
        "colab_type": "text"
      },
      "cell_type": "markdown",
      "source": [
        "The output of above two plots looks like an ankle boot, and this class is assigned a class label of 9. Similarly, other fashion products will have different labels, but similar products will have same labels. This means that all the 7,000 ankle boot images will have a class label of 9."
      ]
    },
    {
      "metadata": {
        "id": "RtzJ053fp75G",
        "colab_type": "text"
      },
      "cell_type": "markdown",
      "source": [
        "# **`Data Preprocessing`**"
      ]
    },
    {
      "metadata": {
        "id": "VBwpUXGcqABU",
        "colab_type": "code",
        "colab": {
          "base_uri": "https://localhost:8080/",
          "height": 33
        },
        "outputId": "cb25e596-31aa-4dac-8925-37fdce0fcbce"
      },
      "cell_type": "code",
      "source": [
        "# Converting each 28 x 28 image of the train and test set into a matrix of size 28 x 28 x 1 which is fed into the network.\n",
        "train_X = train_X.reshape(-1, 28,28, 1)\n",
        "test_X = test_X.reshape(-1, 28,28, 1)\n",
        "print(train_X.shape, test_X.shape)"
      ],
      "execution_count": 11,
      "outputs": [
        {
          "output_type": "stream",
          "text": [
            "(60000, 28, 28, 1) (10000, 28, 28, 1)\n"
          ],
          "name": "stdout"
        }
      ]
    },
    {
      "metadata": {
        "id": "VaSN3r3qqZg4",
        "colab_type": "code",
        "colab": {
          "base_uri": "https://localhost:8080/",
          "height": 37
        },
        "outputId": "9b49e1f1-a54f-4514-e57c-2bcef300afb0"
      },
      "cell_type": "code",
      "source": [
        "# The data right now is in an int8 format, so before we feed it into the network we need to convert its type to float32, \n",
        "# and we also have to rescale the pixel values in range (0 - 1) inclusive. \n",
        "train_X = train_X.astype('float32')\n",
        "test_X = test_X.astype('float32')\n",
        "train_X = train_X / 255.\n",
        "test_X = test_X / 255."
      ],
      "execution_count": 12,
      "outputs": []
    },
    {
      "metadata": {
        "id": "byRNoy0rqn5l",
        "colab_type": "code",
        "colab": {
          "base_uri": "https://localhost:8080/",
          "height": 50
        },
        "outputId": "5ef23ad8-1c22-41b0-9420-3d099bf3b5d3"
      },
      "cell_type": "code",
      "source": [
        "# Converting the class labels into a one-hot encoding vector.\n",
        "\n",
        "# Change the labels from categorical to one-hot encoding\n",
        "train_Y_one_hot = to_categorical(train_Y)\n",
        "test_Y_one_hot = to_categorical(test_Y)\n",
        "\n",
        "# Display the change for category label using one-hot encoding\n",
        "print('Original label:', train_Y[0])\n",
        "print('After conversion to one-hot:', train_Y_one_hot[0])"
      ],
      "execution_count": 13,
      "outputs": [
        {
          "output_type": "stream",
          "text": [
            "Original label: 9\n",
            "After conversion to one-hot: [0. 0. 0. 0. 0. 0. 0. 0. 0. 1.]\n"
          ],
          "name": "stdout"
        }
      ]
    },
    {
      "metadata": {
        "id": "kiWH0R6Rq6DY",
        "colab_type": "code",
        "colab": {
          "base_uri": "https://localhost:8080/",
          "height": 37
        },
        "outputId": "ca88ed93-e6be-4278-c8ae-ecf58a503ba2"
      },
      "cell_type": "code",
      "source": [
        "# Performing train/test split\n",
        "\n",
        "from sklearn.model_selection import train_test_split\n",
        "train_X,valid_X,train_label,valid_label = train_test_split(train_X, train_Y_one_hot, test_size=0.3, random_state=42)"
      ],
      "execution_count": 14,
      "outputs": []
    },
    {
      "metadata": {
        "id": "BPccXXyurba9",
        "colab_type": "code",
        "colab": {
          "base_uri": "https://localhost:8080/",
          "height": 33
        },
        "outputId": "166e313d-fc2e-4912-e7b3-e6169b2b026b"
      },
      "cell_type": "code",
      "source": [
        "train_X.shape,valid_X.shape,train_label.shape,valid_label.shape"
      ],
      "execution_count": 15,
      "outputs": [
        {
          "output_type": "execute_result",
          "data": {
            "text/plain": [
              "((42000, 28, 28, 1), (18000, 28, 28, 1), (42000, 10), (18000, 10))"
            ]
          },
          "metadata": {
            "tags": []
          },
          "execution_count": 15
        }
      ]
    },
    {
      "metadata": {
        "id": "CX_7dLLpsFwO",
        "colab_type": "text"
      },
      "cell_type": "markdown",
      "source": [
        "# **The Network**"
      ]
    },
    {
      "metadata": {
        "id": "mssuWJlSsHxE",
        "colab_type": "code",
        "colab": {
          "base_uri": "https://localhost:8080/",
          "height": 37
        },
        "outputId": "89ddb3f0-994a-4f62-96fa-926532bef790"
      },
      "cell_type": "code",
      "source": [
        "from keras.models import Sequential,Input,Model\n",
        "from keras.layers import Dense, Dropout, Flatten\n",
        "from keras.layers import Conv2D, MaxPooling2D\n",
        "from keras.layers.normalization import BatchNormalization\n",
        "from keras.layers.advanced_activations import LeakyReLU"
      ],
      "execution_count": 16,
      "outputs": []
    },
    {
      "metadata": {
        "id": "d50tNTjYsnX8",
        "colab_type": "code",
        "colab": {
          "base_uri": "https://localhost:8080/",
          "height": 37
        },
        "outputId": "0e64a772-6656-4c59-8f9b-264bc20cec98"
      },
      "cell_type": "code",
      "source": [
        "batch_size = 64\n",
        "epochs = 30\n",
        "num_classes = 10"
      ],
      "execution_count": 18,
      "outputs": []
    },
    {
      "metadata": {
        "id": "Y_0bio0avZY9",
        "colab_type": "text"
      },
      "cell_type": "markdown",
      "source": [
        "### Without Dropout Layers"
      ]
    },
    {
      "metadata": {
        "id": "-W50URIssrP9",
        "colab_type": "code",
        "colab": {
          "base_uri": "https://localhost:8080/",
          "height": 17
        },
        "outputId": "9634704e-6e87-4a56-cc64-0710899c3e00"
      },
      "cell_type": "code",
      "source": [
        "fashion_model = Sequential()\n",
        "\n",
        "fashion_model.add(Conv2D(32, kernel_size=(3, 3),activation='linear',input_shape=(28,28,1),padding='same'))\n",
        "fashion_model.add(LeakyReLU(alpha=0.1))\n",
        "fashion_model.add(MaxPooling2D((2, 2),padding='same'))\n",
        "\n",
        "fashion_model.add(Conv2D(64, (3, 3), activation='linear',padding='same'))\n",
        "fashion_model.add(LeakyReLU(alpha=0.1))\n",
        "fashion_model.add(MaxPooling2D(pool_size=(2, 2),padding='same'))\n",
        "\n",
        "fashion_model.add(Conv2D(128, (3, 3), activation='linear',padding='same'))\n",
        "fashion_model.add(LeakyReLU(alpha=0.1))                  \n",
        "fashion_model.add(MaxPooling2D(pool_size=(2, 2),padding='same'))\n",
        "\n",
        "fashion_model.add(Conv2D(256, (3, 3), activation='linear',padding='same'))\n",
        "fashion_model.add(LeakyReLU(alpha=0.1))                  \n",
        "fashion_model.add(MaxPooling2D(pool_size=(2, 2),padding='same'))\n",
        "\n",
        "fashion_model.add(Flatten())\n",
        "\n",
        "fashion_model.add(Dense(128, activation='linear'))\n",
        "fashion_model.add(LeakyReLU(alpha=0.1))  \n",
        "\n",
        "fashion_model.add(Dense(num_classes, activation='softmax'))"
      ],
      "execution_count": 19,
      "outputs": []
    },
    {
      "metadata": {
        "id": "XcMcRdZ2tGpf",
        "colab_type": "code",
        "colab": {
          "base_uri": "https://localhost:8080/",
          "height": 37
        },
        "outputId": "551cdbbb-8b4f-42d0-9abd-27e78991e550"
      },
      "cell_type": "code",
      "source": [
        "fashion_model.compile(loss=keras.losses.categorical_crossentropy, optimizer=keras.optimizers.Adam(),metrics=['accuracy'])"
      ],
      "execution_count": 20,
      "outputs": []
    },
    {
      "metadata": {
        "id": "IULJCYC0tKho",
        "colab_type": "code",
        "colab": {
          "base_uri": "https://localhost:8080/",
          "height": 669
        },
        "outputId": "812364e6-afbc-410a-bb54-6257cd7a033b"
      },
      "cell_type": "code",
      "source": [
        "fashion_model.summary()"
      ],
      "execution_count": 21,
      "outputs": [
        {
          "output_type": "stream",
          "text": [
            "_________________________________________________________________\n",
            "Layer (type)                 Output Shape              Param #   \n",
            "=================================================================\n",
            "conv2d_5 (Conv2D)            (None, 28, 28, 32)        320       \n",
            "_________________________________________________________________\n",
            "leaky_re_lu_6 (LeakyReLU)    (None, 28, 28, 32)        0         \n",
            "_________________________________________________________________\n",
            "max_pooling2d_5 (MaxPooling2 (None, 14, 14, 32)        0         \n",
            "_________________________________________________________________\n",
            "conv2d_6 (Conv2D)            (None, 14, 14, 64)        18496     \n",
            "_________________________________________________________________\n",
            "leaky_re_lu_7 (LeakyReLU)    (None, 14, 14, 64)        0         \n",
            "_________________________________________________________________\n",
            "max_pooling2d_6 (MaxPooling2 (None, 7, 7, 64)          0         \n",
            "_________________________________________________________________\n",
            "conv2d_7 (Conv2D)            (None, 7, 7, 128)         73856     \n",
            "_________________________________________________________________\n",
            "leaky_re_lu_8 (LeakyReLU)    (None, 7, 7, 128)         0         \n",
            "_________________________________________________________________\n",
            "max_pooling2d_7 (MaxPooling2 (None, 4, 4, 128)         0         \n",
            "_________________________________________________________________\n",
            "conv2d_8 (Conv2D)            (None, 4, 4, 256)         295168    \n",
            "_________________________________________________________________\n",
            "leaky_re_lu_9 (LeakyReLU)    (None, 4, 4, 256)         0         \n",
            "_________________________________________________________________\n",
            "max_pooling2d_8 (MaxPooling2 (None, 2, 2, 256)         0         \n",
            "_________________________________________________________________\n",
            "flatten_2 (Flatten)          (None, 1024)              0         \n",
            "_________________________________________________________________\n",
            "dense_2 (Dense)              (None, 128)               131200    \n",
            "_________________________________________________________________\n",
            "leaky_re_lu_10 (LeakyReLU)   (None, 128)               0         \n",
            "_________________________________________________________________\n",
            "dense_3 (Dense)              (None, 10)                1290      \n",
            "=================================================================\n",
            "Total params: 520,330\n",
            "Trainable params: 520,330\n",
            "Non-trainable params: 0\n",
            "_________________________________________________________________\n"
          ],
          "name": "stdout"
        }
      ]
    },
    {
      "metadata": {
        "id": "Yhj0dURRtOP4",
        "colab_type": "code",
        "colab": {
          "base_uri": "https://localhost:8080/",
          "height": 1057
        },
        "outputId": "d476e8a0-e6bd-4719-bf6c-b7c7ce891cb4"
      },
      "cell_type": "code",
      "source": [
        "fashion_train = fashion_model.fit(train_X, train_label, batch_size=batch_size,epochs=epochs,verbose=1,validation_data=(valid_X, valid_label))"
      ],
      "execution_count": 22,
      "outputs": [
        {
          "output_type": "stream",
          "text": [
            "Train on 42000 samples, validate on 18000 samples\n",
            "Epoch 1/30\n",
            "42000/42000 [==============================] - 16s 376us/step - loss: 0.5051 - acc: 0.8141 - val_loss: 0.3522 - val_acc: 0.8740\n",
            "Epoch 2/30\n",
            "42000/42000 [==============================] - 15s 347us/step - loss: 0.3004 - acc: 0.8890 - val_loss: 0.2720 - val_acc: 0.8996\n",
            "Epoch 3/30\n",
            " 2368/42000 [>.............................] - ETA: 12s - loss: 0.2493 - acc: 0.9143"
          ],
          "name": "stdout"
        },
        {
          "output_type": "stream",
          "text": [
            "42000/42000 [==============================] - 15s 346us/step - loss: 0.2497 - acc: 0.9086 - val_loss: 0.3187 - val_acc: 0.8751\n",
            "Epoch 4/30\n",
            "42000/42000 [==============================] - 15s 345us/step - loss: 0.2208 - acc: 0.9168 - val_loss: 0.2329 - val_acc: 0.9144\n",
            "Epoch 5/30\n",
            "17664/42000 [===========>..................] - ETA: 7s - loss: 0.1880 - acc: 0.9283"
          ],
          "name": "stdout"
        },
        {
          "output_type": "stream",
          "text": [
            "42000/42000 [==============================] - 15s 346us/step - loss: 0.1908 - acc: 0.9279 - val_loss: 0.2586 - val_acc: 0.9108\n",
            "Epoch 6/30\n",
            "42000/42000 [==============================] - 15s 346us/step - loss: 0.1692 - acc: 0.9356 - val_loss: 0.2432 - val_acc: 0.9141\n",
            "Epoch 7/30\n",
            "21184/42000 [==============>...............] - ETA: 6s - loss: 0.1385 - acc: 0.9499"
          ],
          "name": "stdout"
        },
        {
          "output_type": "stream",
          "text": [
            "42000/42000 [==============================] - 15s 347us/step - loss: 0.1453 - acc: 0.9465 - val_loss: 0.2406 - val_acc: 0.9195\n",
            "Epoch 8/30\n",
            "42000/42000 [==============================] - 15s 346us/step - loss: 0.1257 - acc: 0.9523 - val_loss: 0.2467 - val_acc: 0.9196\n",
            "Epoch 9/30\n",
            "21888/42000 [==============>...............] - ETA: 6s - loss: 0.1009 - acc: 0.9622"
          ],
          "name": "stdout"
        },
        {
          "output_type": "stream",
          "text": [
            "42000/42000 [==============================] - 15s 346us/step - loss: 0.1070 - acc: 0.9595 - val_loss: 0.2454 - val_acc: 0.9167\n",
            "Epoch 10/30\n",
            "42000/42000 [==============================] - 15s 346us/step - loss: 0.0917 - acc: 0.9654 - val_loss: 0.2666 - val_acc: 0.9198\n",
            "Epoch 11/30\n",
            "21952/42000 [==============>...............] - ETA: 6s - loss: 0.0736 - acc: 0.9712"
          ],
          "name": "stdout"
        },
        {
          "output_type": "stream",
          "text": [
            "42000/42000 [==============================] - 15s 347us/step - loss: 0.0804 - acc: 0.9686 - val_loss: 0.2906 - val_acc: 0.9234\n",
            "Epoch 12/30\n",
            "42000/42000 [==============================] - 15s 346us/step - loss: 0.0687 - acc: 0.9733 - val_loss: 0.3146 - val_acc: 0.9176\n",
            "Epoch 13/30\n",
            "21760/42000 [==============>...............] - ETA: 6s - loss: 0.0527 - acc: 0.9795"
          ],
          "name": "stdout"
        },
        {
          "output_type": "stream",
          "text": [
            "42000/42000 [==============================] - 15s 346us/step - loss: 0.0643 - acc: 0.9758 - val_loss: 0.3243 - val_acc: 0.9212\n",
            "Epoch 14/30\n",
            "42000/42000 [==============================] - 15s 346us/step - loss: 0.0533 - acc: 0.9793 - val_loss: 0.3279 - val_acc: 0.9193\n",
            "Epoch 15/30\n",
            "21952/42000 [==============>...............] - ETA: 6s - loss: 0.0376 - acc: 0.9865"
          ],
          "name": "stdout"
        },
        {
          "output_type": "stream",
          "text": [
            "42000/42000 [==============================] - 15s 345us/step - loss: 0.0447 - acc: 0.9835 - val_loss: 0.3425 - val_acc: 0.9190\n",
            "Epoch 16/30\n",
            "42000/42000 [==============================] - 14s 345us/step - loss: 0.0446 - acc: 0.9834 - val_loss: 0.3930 - val_acc: 0.9128\n",
            "Epoch 17/30\n",
            "21952/42000 [==============>...............] - ETA: 6s - loss: 0.0404 - acc: 0.9848"
          ],
          "name": "stdout"
        },
        {
          "output_type": "stream",
          "text": [
            "42000/42000 [==============================] - 15s 347us/step - loss: 0.0416 - acc: 0.9847 - val_loss: 0.3863 - val_acc: 0.9176\n",
            "Epoch 18/30\n",
            "42000/42000 [==============================] - 15s 346us/step - loss: 0.0403 - acc: 0.9857 - val_loss: 0.4102 - val_acc: 0.9179\n",
            "Epoch 19/30\n",
            "21952/42000 [==============>...............] - ETA: 6s - loss: 0.0261 - acc: 0.9903"
          ],
          "name": "stdout"
        },
        {
          "output_type": "stream",
          "text": [
            "42000/42000 [==============================] - 15s 345us/step - loss: 0.0305 - acc: 0.9887 - val_loss: 0.4193 - val_acc: 0.9153\n",
            "Epoch 20/30\n",
            "42000/42000 [==============================] - 15s 346us/step - loss: 0.0335 - acc: 0.9879 - val_loss: 0.4230 - val_acc: 0.9179\n",
            "Epoch 21/30\n",
            "21952/42000 [==============>...............] - ETA: 6s - loss: 0.0323 - acc: 0.9884"
          ],
          "name": "stdout"
        },
        {
          "output_type": "stream",
          "text": [
            "42000/42000 [==============================] - 15s 346us/step - loss: 0.0378 - acc: 0.9864 - val_loss: 0.4127 - val_acc: 0.9172\n",
            "Epoch 22/30\n",
            "42000/42000 [==============================] - 15s 346us/step - loss: 0.0267 - acc: 0.9904 - val_loss: 0.4011 - val_acc: 0.9194\n",
            "Epoch 23/30\n",
            "21760/42000 [==============>...............] - ETA: 6s - loss: 0.0247 - acc: 0.9909"
          ],
          "name": "stdout"
        },
        {
          "output_type": "stream",
          "text": [
            "42000/42000 [==============================] - 15s 345us/step - loss: 0.0279 - acc: 0.9899 - val_loss: 0.4623 - val_acc: 0.9188\n",
            "Epoch 24/30\n",
            "42000/42000 [==============================] - 15s 346us/step - loss: 0.0226 - acc: 0.9923 - val_loss: 0.4715 - val_acc: 0.9181\n",
            "Epoch 25/30\n",
            "21952/42000 [==============>...............] - ETA: 6s - loss: 0.0219 - acc: 0.9925"
          ],
          "name": "stdout"
        },
        {
          "output_type": "stream",
          "text": [
            "42000/42000 [==============================] - 15s 346us/step - loss: 0.0280 - acc: 0.9908 - val_loss: 0.4421 - val_acc: 0.9187\n",
            "Epoch 26/30\n",
            "42000/42000 [==============================] - 15s 345us/step - loss: 0.0252 - acc: 0.9912 - val_loss: 0.4707 - val_acc: 0.9163\n",
            "Epoch 27/30\n",
            "21760/42000 [==============>...............] - ETA: 6s - loss: 0.0182 - acc: 0.9940"
          ],
          "name": "stdout"
        },
        {
          "output_type": "stream",
          "text": [
            "42000/42000 [==============================] - 14s 345us/step - loss: 0.0241 - acc: 0.9918 - val_loss: 0.4846 - val_acc: 0.9119\n",
            "Epoch 28/30\n",
            "42000/42000 [==============================] - 15s 346us/step - loss: 0.0270 - acc: 0.9906 - val_loss: 0.5198 - val_acc: 0.9181\n",
            "Epoch 29/30\n",
            "21952/42000 [==============>...............] - ETA: 6s - loss: 0.0264 - acc: 0.9906"
          ],
          "name": "stdout"
        },
        {
          "output_type": "stream",
          "text": [
            "42000/42000 [==============================] - 15s 346us/step - loss: 0.0252 - acc: 0.9912 - val_loss: 0.5235 - val_acc: 0.9205\n",
            "Epoch 30/30\n",
            "42000/42000 [==============================] - 15s 346us/step - loss: 0.0215 - acc: 0.9922 - val_loss: 0.4956 - val_acc: 0.9191\n"
          ],
          "name": "stdout"
        }
      ]
    },
    {
      "metadata": {
        "id": "P5NiiohYvua8",
        "colab_type": "code",
        "colab": {
          "base_uri": "https://localhost:8080/",
          "height": 50
        },
        "outputId": "49b995b7-bcb5-462e-e152-091c2957f5a6"
      },
      "cell_type": "code",
      "source": [
        "# Model Evaluation on the Test Set\n",
        "test_eval = fashion_model.evaluate(test_X, test_Y_one_hot, verbose=0)\n",
        "print('Test loss:', test_eval[0])\n",
        "print('Test accuracy:', test_eval[1])"
      ],
      "execution_count": 23,
      "outputs": [
        {
          "output_type": "stream",
          "text": [
            "Test loss: 0.5738951678013895\n",
            "Test accuracy: 0.9137\n"
          ],
          "name": "stdout"
        }
      ]
    },
    {
      "metadata": {
        "id": "H5zodR8bwGRu",
        "colab_type": "code",
        "colab": {
          "base_uri": "https://localhost:8080/",
          "height": 543
        },
        "outputId": "68d0dd56-9188-4928-a13d-305b87895c19"
      },
      "cell_type": "code",
      "source": [
        "# Plotting the accuracy and loss plots between training and validation data:\n",
        "accuracy = fashion_train.history['acc']\n",
        "val_accuracy = fashion_train.history['val_acc']\n",
        "loss = fashion_train.history['loss']\n",
        "val_loss = fashion_train.history['val_loss']\n",
        "epochs = range(len(accuracy))\n",
        "plt.plot(epochs, accuracy, 'bo', label='Training accuracy')\n",
        "plt.plot(epochs, val_accuracy, 'b', label='Validation accuracy')\n",
        "plt.title('Training and validation accuracy')\n",
        "plt.legend()\n",
        "plt.figure()\n",
        "plt.plot(epochs, loss, 'bo', label='Training loss')\n",
        "plt.plot(epochs, val_loss, 'b', label='Validation loss')\n",
        "plt.title('Training and validation loss')\n",
        "plt.legend()\n",
        "plt.show()"
      ],
      "execution_count": 24,
      "outputs": [
        {
          "output_type": "display_data",
          "data": {
            "image/png": "[encoded data removed]",
            "text/plain": [
              "<matplotlib.figure.Figure at 0x7f6f66cecc88>"
            ]
          },
          "metadata": {
            "tags": []
          }
        },
        {
          "output_type": "display_data",
          "data": {
            "image/png": "[encoded data removed]",
            "text/plain": [
              "<matplotlib.figure.Figure at 0x7f6f66c95588>"
            ]
          },
          "metadata": {
            "tags": []
          }
        }
      ]
    },
    {
      "metadata": {
        "id": "GvfhRtWvvpgp",
        "colab_type": "text"
      },
      "cell_type": "markdown",
      "source": [
        "### With Dropout Layers (To prevent overfitting)"
      ]
    },
    {
      "metadata": {
        "id": "JIQ5cULgvrjU",
        "colab_type": "code",
        "colab": {
          "base_uri": "https://localhost:8080/",
          "height": 37
        },
        "outputId": "f29bf0ff-da5f-49a8-9165-acf96457dbae"
      },
      "cell_type": "code",
      "source": [
        "fashion_model = Sequential()\n",
        "\n",
        "fashion_model.add(Conv2D(32, kernel_size=(3, 3),activation='linear',padding='same',input_shape=(28,28,1)))\n",
        "fashion_model.add(LeakyReLU(alpha=0.1))\n",
        "fashion_model.add(MaxPooling2D((2, 2),padding='same'))\n",
        "fashion_model.add(Dropout(0.25))\n",
        "\n",
        "fashion_model.add(Conv2D(64, (3, 3), activation='linear',padding='same'))\n",
        "fashion_model.add(LeakyReLU(alpha=0.1))\n",
        "fashion_model.add(MaxPooling2D(pool_size=(2, 2),padding='same'))\n",
        "fashion_model.add(Dropout(0.25))\n",
        "\n",
        "fashion_model.add(Conv2D(128, (3, 3), activation='linear',padding='same'))\n",
        "fashion_model.add(LeakyReLU(alpha=0.1))                  \n",
        "fashion_model.add(MaxPooling2D(pool_size=(2, 2),padding='same'))\n",
        "fashion_model.add(Dropout(0.4))\n",
        "\n",
        "fashion_model.add(Conv2D(256, (3, 3), activation='linear',padding='same'))\n",
        "fashion_model.add(LeakyReLU(alpha=0.1))                  \n",
        "fashion_model.add(MaxPooling2D(pool_size=(2, 2),padding='same'))\n",
        "\n",
        "\n",
        "fashion_model.add(Flatten())\n",
        "\n",
        "fashion_model.add(Dense(128, activation='linear'))\n",
        "fashion_model.add(LeakyReLU(alpha=0.1))           \n",
        "fashion_model.add(Dropout(0.3))\n",
        "\n",
        "fashion_model.add(Dense(num_classes, activation='softmax'))"
      ],
      "execution_count": 40,
      "outputs": []
    },
    {
      "metadata": {
        "id": "aOLHgtd-xDq6",
        "colab_type": "code",
        "colab": {
          "base_uri": "https://localhost:8080/",
          "height": 803
        },
        "outputId": "0fc5aa42-7d47-4b7d-8017-f23da60484fa"
      },
      "cell_type": "code",
      "source": [
        "fashion_model.summary()"
      ],
      "execution_count": 41,
      "outputs": [
        {
          "output_type": "stream",
          "text": [
            "_________________________________________________________________\n",
            "Layer (type)                 Output Shape              Param #   \n",
            "=================================================================\n",
            "conv2d_20 (Conv2D)           (None, 28, 28, 32)        320       \n",
            "_________________________________________________________________\n",
            "leaky_re_lu_25 (LeakyReLU)   (None, 28, 28, 32)        0         \n",
            "_________________________________________________________________\n",
            "max_pooling2d_20 (MaxPooling (None, 14, 14, 32)        0         \n",
            "_________________________________________________________________\n",
            "dropout_15 (Dropout)         (None, 14, 14, 32)        0         \n",
            "_________________________________________________________________\n",
            "conv2d_21 (Conv2D)           (None, 14, 14, 64)        18496     \n",
            "_________________________________________________________________\n",
            "leaky_re_lu_26 (LeakyReLU)   (None, 14, 14, 64)        0         \n",
            "_________________________________________________________________\n",
            "max_pooling2d_21 (MaxPooling (None, 7, 7, 64)          0         \n",
            "_________________________________________________________________\n",
            "dropout_16 (Dropout)         (None, 7, 7, 64)          0         \n",
            "_________________________________________________________________\n",
            "conv2d_22 (Conv2D)           (None, 7, 7, 128)         73856     \n",
            "_________________________________________________________________\n",
            "leaky_re_lu_27 (LeakyReLU)   (None, 7, 7, 128)         0         \n",
            "_________________________________________________________________\n",
            "max_pooling2d_22 (MaxPooling (None, 4, 4, 128)         0         \n",
            "_________________________________________________________________\n",
            "dropout_17 (Dropout)         (None, 4, 4, 128)         0         \n",
            "_________________________________________________________________\n",
            "conv2d_23 (Conv2D)           (None, 4, 4, 256)         295168    \n",
            "_________________________________________________________________\n",
            "leaky_re_lu_28 (LeakyReLU)   (None, 4, 4, 256)         0         \n",
            "_________________________________________________________________\n",
            "max_pooling2d_23 (MaxPooling (None, 2, 2, 256)         0         \n",
            "_________________________________________________________________\n",
            "flatten_6 (Flatten)          (None, 1024)              0         \n",
            "_________________________________________________________________\n",
            "dense_10 (Dense)             (None, 128)               131200    \n",
            "_________________________________________________________________\n",
            "leaky_re_lu_29 (LeakyReLU)   (None, 128)               0         \n",
            "_________________________________________________________________\n",
            "dropout_18 (Dropout)         (None, 128)               0         \n",
            "_________________________________________________________________\n",
            "dense_11 (Dense)             (None, 10)                1290      \n",
            "=================================================================\n",
            "Total params: 520,330\n",
            "Trainable params: 520,330\n",
            "Non-trainable params: 0\n",
            "_________________________________________________________________\n"
          ],
          "name": "stdout"
        }
      ]
    },
    {
      "metadata": {
        "id": "mQyg_vzPxIXD",
        "colab_type": "code",
        "colab": {
          "base_uri": "https://localhost:8080/",
          "height": 37
        },
        "outputId": "ed3ac39c-01eb-40fc-c527-da6413f02687"
      },
      "cell_type": "code",
      "source": [
        "fashion_model.compile(loss=keras.losses.categorical_crossentropy, optimizer=keras.optimizers.Adam(),metrics=['accuracy'])"
      ],
      "execution_count": 42,
      "outputs": []
    },
    {
      "metadata": {
        "id": "PxItj1PzxMTL",
        "colab_type": "code",
        "colab": {
          "base_uri": "https://localhost:8080/",
          "height": 1057
        },
        "outputId": "6f3b0354-bb0b-4bb0-c949-f65cc4fc19f3"
      },
      "cell_type": "code",
      "source": [
        "fashion_train_dropout = fashion_model.fit(train_X, train_label, batch_size=64,epochs=30,verbose=1,validation_data=(valid_X, valid_label))"
      ],
      "execution_count": 44,
      "outputs": [
        {
          "output_type": "stream",
          "text": [
            "Train on 42000 samples, validate on 18000 samples\n",
            "Epoch 1/30\n",
            "42000/42000 [==============================] - 17s 406us/step - loss: 0.6042 - acc: 0.7744 - val_loss: 0.4025 - val_acc: 0.8485\n",
            "Epoch 2/30\n",
            "42000/42000 [==============================] - 17s 398us/step - loss: 0.3900 - acc: 0.8545 - val_loss: 0.3077 - val_acc: 0.8864\n",
            "Epoch 3/30\n",
            "  256/42000 [..............................] - ETA: 14s - loss: 0.3389 - acc: 0.8984"
          ],
          "name": "stdout"
        },
        {
          "output_type": "stream",
          "text": [
            "42000/42000 [==============================] - 17s 393us/step - loss: 0.3356 - acc: 0.8738 - val_loss: 0.2805 - val_acc: 0.8943\n",
            "Epoch 4/30\n",
            "42000/42000 [==============================] - 16s 391us/step - loss: 0.3063 - acc: 0.8855 - val_loss: 0.2737 - val_acc: 0.8989\n",
            "Epoch 5/30\n",
            "13504/42000 [========>.....................] - ETA: 9s - loss: 0.2931 - acc: 0.8904"
          ],
          "name": "stdout"
        },
        {
          "output_type": "stream",
          "text": [
            "42000/42000 [==============================] - 16s 386us/step - loss: 0.2897 - acc: 0.8919 - val_loss: 0.2479 - val_acc: 0.9046\n",
            "Epoch 6/30\n",
            "42000/42000 [==============================] - 16s 387us/step - loss: 0.2691 - acc: 0.8972 - val_loss: 0.2702 - val_acc: 0.9002\n",
            "Epoch 7/30\n",
            "15424/42000 [==========>...................] - ETA: 9s - loss: 0.2626 - acc: 0.9028"
          ],
          "name": "stdout"
        },
        {
          "output_type": "stream",
          "text": [
            "42000/42000 [==============================] - 16s 388us/step - loss: 0.2619 - acc: 0.9031 - val_loss: 0.2414 - val_acc: 0.9112\n",
            "Epoch 8/30\n",
            "42000/42000 [==============================] - 16s 387us/step - loss: 0.2453 - acc: 0.9070 - val_loss: 0.2340 - val_acc: 0.9147\n",
            "Epoch 9/30\n",
            "14656/42000 [=========>....................] - ETA: 9s - loss: 0.2331 - acc: 0.9128"
          ],
          "name": "stdout"
        },
        {
          "output_type": "stream",
          "text": [
            "42000/42000 [==============================] - 16s 388us/step - loss: 0.2353 - acc: 0.9119 - val_loss: 0.2296 - val_acc: 0.9166\n",
            "Epoch 10/30\n",
            "42000/42000 [==============================] - 16s 386us/step - loss: 0.2311 - acc: 0.9116 - val_loss: 0.2169 - val_acc: 0.9211\n",
            "Epoch 11/30\n",
            "16320/42000 [==========>...................] - ETA: 8s - loss: 0.2179 - acc: 0.9159"
          ],
          "name": "stdout"
        },
        {
          "output_type": "stream",
          "text": [
            "42000/42000 [==============================] - 16s 387us/step - loss: 0.2245 - acc: 0.9150 - val_loss: 0.2117 - val_acc: 0.9229\n",
            "Epoch 12/30\n",
            "42000/42000 [==============================] - 16s 387us/step - loss: 0.2151 - acc: 0.9191 - val_loss: 0.2265 - val_acc: 0.9156\n",
            "Epoch 13/30\n",
            "17152/42000 [===========>..................] - ETA: 8s - loss: 0.2089 - acc: 0.9220"
          ],
          "name": "stdout"
        },
        {
          "output_type": "stream",
          "text": [
            "42000/42000 [==============================] - 16s 386us/step - loss: 0.2127 - acc: 0.9195 - val_loss: 0.2079 - val_acc: 0.9248\n",
            "Epoch 14/30\n",
            "42000/42000 [==============================] - 16s 386us/step - loss: 0.2036 - acc: 0.9230 - val_loss: 0.2103 - val_acc: 0.9211\n",
            "Epoch 15/30\n",
            "16704/42000 [==========>...................] - ETA: 8s - loss: 0.1992 - acc: 0.9239"
          ],
          "name": "stdout"
        },
        {
          "output_type": "stream",
          "text": [
            "42000/42000 [==============================] - 16s 384us/step - loss: 0.2023 - acc: 0.9223 - val_loss: 0.2131 - val_acc: 0.9231\n",
            "Epoch 16/30\n",
            "42000/42000 [==============================] - 16s 384us/step - loss: 0.1963 - acc: 0.9255 - val_loss: 0.2030 - val_acc: 0.9246\n",
            "Epoch 17/30\n",
            "16064/42000 [==========>...................] - ETA: 9s - loss: 0.1925 - acc: 0.9264"
          ],
          "name": "stdout"
        },
        {
          "output_type": "stream",
          "text": [
            "42000/42000 [==============================] - 16s 387us/step - loss: 0.1950 - acc: 0.9253 - val_loss: 0.2041 - val_acc: 0.9267\n",
            "Epoch 18/30\n",
            "42000/42000 [==============================] - 16s 387us/step - loss: 0.1918 - acc: 0.9275 - val_loss: 0.2118 - val_acc: 0.9241\n",
            "Epoch 19/30\n",
            "16064/42000 [==========>...................] - ETA: 9s - loss: 0.1893 - acc: 0.9263"
          ],
          "name": "stdout"
        },
        {
          "output_type": "stream",
          "text": [
            "42000/42000 [==============================] - 16s 387us/step - loss: 0.1870 - acc: 0.9285 - val_loss: 0.2122 - val_acc: 0.9252\n",
            "Epoch 20/30\n",
            "42000/42000 [==============================] - 16s 388us/step - loss: 0.1877 - acc: 0.9284 - val_loss: 0.2117 - val_acc: 0.9243\n",
            "Epoch 21/30\n",
            "16192/42000 [==========>...................] - ETA: 8s - loss: 0.1776 - acc: 0.9326"
          ],
          "name": "stdout"
        },
        {
          "output_type": "stream",
          "text": [
            "42000/42000 [==============================] - 16s 387us/step - loss: 0.1793 - acc: 0.9318 - val_loss: 0.2103 - val_acc: 0.9265\n",
            "Epoch 22/30\n",
            "42000/42000 [==============================] - 16s 387us/step - loss: 0.1790 - acc: 0.9315 - val_loss: 0.2167 - val_acc: 0.9247\n",
            "Epoch 23/30\n"
          ],
          "name": "stdout"
        },
        {
          "output_type": "stream",
          "text": [
            "42000/42000 [==============================] - 16s 387us/step - loss: 0.1763 - acc: 0.9322 - val_loss: 0.2190 - val_acc: 0.9244\n",
            "Epoch 24/30\n",
            "42000/42000 [==============================] - 16s 387us/step - loss: 0.1724 - acc: 0.9334 - val_loss: 0.2066 - val_acc: 0.9283\n",
            "Epoch 25/30\n",
            "15744/42000 [==========>...................] - ETA: 9s - loss: 0.1630 - acc: 0.9360"
          ],
          "name": "stdout"
        },
        {
          "output_type": "stream",
          "text": [
            "42000/42000 [==============================] - 16s 386us/step - loss: 0.1727 - acc: 0.9337 - val_loss: 0.2147 - val_acc: 0.9266\n",
            "Epoch 26/30\n",
            "42000/42000 [==============================] - 16s 387us/step - loss: 0.1713 - acc: 0.9343 - val_loss: 0.2094 - val_acc: 0.9266\n",
            "Epoch 27/30\n",
            "15424/42000 [==========>...................]"
          ],
          "name": "stdout"
        },
        {
          "output_type": "stream",
          "text": [
            "42000/42000 [==============================] - 16s 387us/step - loss: 0.1695 - acc: 0.9358 - val_loss: 0.2126 - val_acc: 0.9272\n",
            "Epoch 28/30\n",
            "42000/42000 [==============================] - 16s 386us/step - loss: 0.1705 - acc: 0.9344 - val_loss: 0.1989 - val_acc: 0.9302\n",
            "Epoch 29/30\n",
            "16128/42000 [==========>...................] - ETA: 8s - loss: 0.1596 - acc: 0.9394"
          ],
          "name": "stdout"
        },
        {
          "output_type": "stream",
          "text": [
            "42000/42000 [==============================] - 16s 386us/step - loss: 0.1632 - acc: 0.9381 - val_loss: 0.2108 - val_acc: 0.9302\n",
            "Epoch 30/30\n",
            "42000/42000 [==============================] - 16s 387us/step - loss: 0.1627 - acc: 0.9384 - val_loss: 0.2096 - val_acc: 0.9292\n"
          ],
          "name": "stdout"
        }
      ]
    },
    {
      "metadata": {
        "id": "1l38tTIV2JJZ",
        "colab_type": "code",
        "colab": {
          "base_uri": "https://localhost:8080/",
          "height": 37
        },
        "outputId": "4a3afb48-2d50-4143-c698-39dae105454f"
      },
      "cell_type": "code",
      "source": [
        "# Save the model\n",
        "fashion_model.save(\"fashion_model_dropout.h5py\")"
      ],
      "execution_count": 45,
      "outputs": []
    },
    {
      "metadata": {
        "id": "ZgX2qaHS2Mtq",
        "colab_type": "code",
        "colab": {
          "base_uri": "https://localhost:8080/",
          "height": 67
        },
        "outputId": "40beadb6-0eb2-456e-d0f0-d254e9fff1e9"
      },
      "cell_type": "code",
      "source": [
        "test_eval = fashion_model.evaluate(test_X, test_Y_one_hot, verbose=1)\n",
        "print('Test loss:', test_eval[0])\n",
        "print('Test accuracy:', test_eval[1])"
      ],
      "execution_count": 46,
      "outputs": [
        {
          "output_type": "stream",
          "text": [
            "10000/10000 [==============================] - 1s 139us/step\n",
            "Test loss: 0.24352196671068668\n",
            "Test accuracy: 0.9182\n"
          ],
          "name": "stdout"
        }
      ]
    },
    {
      "metadata": {
        "id": "3qrSRbre2Uua",
        "colab_type": "code",
        "colab": {
          "base_uri": "https://localhost:8080/",
          "height": 543
        },
        "outputId": "a7d5a0e5-2cc6-455f-d7ee-e0adf3ec407c"
      },
      "cell_type": "code",
      "source": [
        "accuracy = fashion_train_dropout.history['acc']\n",
        "val_accuracy = fashion_train_dropout.history['val_acc']\n",
        "loss = fashion_train_dropout.history['loss']\n",
        "val_loss = fashion_train_dropout.history['val_loss']\n",
        "epochs = range(len(accuracy))\n",
        "plt.plot(epochs, accuracy, 'bo', label='Training accuracy')\n",
        "plt.plot(epochs, val_accuracy, 'b', label='Validation accuracy')\n",
        "plt.title('Training and validation accuracy')\n",
        "plt.legend()\n",
        "plt.figure()\n",
        "plt.plot(epochs, loss, 'bo', label='Training loss')\n",
        "plt.plot(epochs, val_loss, 'b', label='Validation loss')\n",
        "plt.title('Training and validation loss')\n",
        "plt.legend()\n",
        "plt.show()"
      ],
      "execution_count": 47,
      "outputs": [
        {
          "output_type": "display_data",
          "data": {
            "image/png": "[encoded data removed]",
            "text/plain": [
              "<matplotlib.figure.Figure at 0x7f6f60be4a90>"
            ]
          },
          "metadata": {
            "tags": []
          }
        },
        {
          "output_type": "display_data",
          "data": {
            "image/png": "[encoded data removed]",
            "text/plain": [
              "<matplotlib.figure.Figure at 0x7f6f60b7e358>"
            ]
          },
          "metadata": {
            "tags": []
          }
        }
      ]
    },
    {
      "metadata": {
        "id": "ExIcm53p2sdA",
        "colab_type": "code",
        "colab": {
          "base_uri": "https://localhost:8080/",
          "height": 33
        },
        "outputId": "560f64dc-b33f-4d8a-d112-212c340a5736"
      },
      "cell_type": "code",
      "source": [
        "predicted_classes = fashion_model.predict(test_X)\n",
        "predicted_classes = np.argmax(np.round(predicted_classes),axis=1)\n",
        "predicted_classes.shape, test_Y.shape"
      ],
      "execution_count": 50,
      "outputs": [
        {
          "output_type": "execute_result",
          "data": {
            "text/plain": [
              "((10000,), (10000,))"
            ]
          },
          "metadata": {
            "tags": []
          },
          "execution_count": 50
        }
      ]
    },
    {
      "metadata": {
        "id": "g4bq4-lq2zvY",
        "colab_type": "code",
        "colab": {
          "base_uri": "https://localhost:8080/",
          "height": 313
        },
        "outputId": "b1996e23-75b7-4c60-d726-723879d68124"
      },
      "cell_type": "code",
      "source": [
        "correct = np.where(predicted_classes==test_Y)[0]\n",
        "print (\"Found %d correct labels\" % len(correct))\n",
        "for i, correct in enumerate(correct[:9]):\n",
        "    plt.subplot(3,3,i+1)\n",
        "    plt.imshow(test_X[correct].reshape(28,28), cmap='gray', interpolation='none')\n",
        "    plt.title(\"Predicted {}, Class {}\".format(predicted_classes[correct], test_Y[correct]))\n",
        "    plt.tight_layout()"
      ],
      "execution_count": 52,
      "outputs": [
        {
          "output_type": "stream",
          "text": [
            "Found 9162 correct labels\n"
          ],
          "name": "stdout"
        },
        {
          "output_type": "display_data",
          "data": {
            "image/png": "[encoded data removed]",
            "text/plain": [
              "<matplotlib.figure.Figure at 0x7f6f60bd75f8>"
            ]
          },
          "metadata": {
            "tags": []
          }
        }
      ]
    },
    {
      "metadata": {
        "id": "N1wJ76Ed219-",
        "colab_type": "code",
        "colab": {
          "base_uri": "https://localhost:8080/",
          "height": 313
        },
        "outputId": "50fbe96e-1c86-43e3-95f5-315b1fa0b706"
      },
      "cell_type": "code",
      "source": [
        "incorrect = np.where(predicted_classes!=test_Y)[0]\n",
        "print (\"Found %d incorrect labels\" % len(incorrect))\n",
        "for i, incorrect in enumerate(incorrect[:9]):\n",
        "    plt.subplot(3,3,i+1)\n",
        "    plt.imshow(test_X[incorrect].reshape(28,28), cmap='gray', interpolation='none')\n",
        "    plt.title(\"Predicted {}, Class {}\".format(predicted_classes[incorrect], test_Y[incorrect]))\n",
        "    plt.tight_layout()"
      ],
      "execution_count": 53,
      "outputs": [
        {
          "output_type": "stream",
          "text": [
            "Found 838 incorrect labels\n"
          ],
          "name": "stdout"
        },
        {
          "output_type": "display_data",
          "data": {
            "image/png": "[encoded data removed]",
            "text/plain": [
              "<matplotlib.figure.Figure at 0x7f6f6072b048>"
            ]
          },
          "metadata": {
            "tags": []
          }
        }
      ]
    },
    {
      "metadata": {
        "id": "UHVlf_Zv3H8F",
        "colab_type": "text"
      },
      "cell_type": "markdown",
      "source": [
        "## Classification Report"
      ]
    },
    {
      "metadata": {
        "id": "RQPrwJSP3J9S",
        "colab_type": "code",
        "colab": {
          "base_uri": "https://localhost:8080/",
          "height": 268
        },
        "outputId": "2e70f465-ce22-44e6-806b-acd6833d94a5"
      },
      "cell_type": "code",
      "source": [
        "from sklearn.metrics import classification_report\n",
        "target_names = [\"Class {}\".format(i) for i in range(num_classes)]\n",
        "print(classification_report(test_Y, predicted_classes, target_names=target_names))"
      ],
      "execution_count": 54,
      "outputs": [
        {
          "output_type": "stream",
          "text": [
            "             precision    recall  f1-score   support\n",
            "\n",
            "    Class 0       0.80      0.88      0.84      1000\n",
            "    Class 1       1.00      0.98      0.99      1000\n",
            "    Class 2       0.90      0.84      0.87      1000\n",
            "    Class 3       0.91      0.92      0.92      1000\n",
            "    Class 4       0.85      0.89      0.87      1000\n",
            "    Class 5       0.99      0.98      0.98      1000\n",
            "    Class 6       0.80      0.74      0.77      1000\n",
            "    Class 7       0.96      0.97      0.97      1000\n",
            "    Class 8       0.99      0.98      0.99      1000\n",
            "    Class 9       0.97      0.97      0.97      1000\n",
            "\n",
            "avg / total       0.92      0.92      0.92     10000\n",
            "\n"
          ],
          "name": "stdout"
        }
      ]
    },
    {
      "metadata": {
        "id": "2_JGjLbj3Nk9",
        "colab_type": "code",
        "colab": {}
      },
      "cell_type": "code",
      "source": [
        ""
      ],
      "execution_count": 0,
      "outputs": []
    }
  ]
}